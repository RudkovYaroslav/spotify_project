{
  "cells": [
    {
      "cell_type": "markdown",
      "metadata": {
        "id": "view-in-github",
        "colab_type": "text"
      },
      "source": [
        "<a href=\"https://colab.research.google.com/github/RudkovYaroslav/spotify_project/blob/main/Spotify.ipynb\" target=\"_parent\"><img src=\"https://colab.research.google.com/assets/colab-badge.svg\" alt=\"Open In Colab\"/></a>"
      ]
    },
    {
      "cell_type": "markdown",
      "id": "cd63d44f-57b2-48ff-a444-6bd57b7be02f",
      "metadata": {
        "id": "cd63d44f-57b2-48ff-a444-6bd57b7be02f"
      },
      "source": [
        "В нашем распоряжении выгрузка с нескольких стриминговых сервисов популярных треков. Необходимо провести предобработку данных и исследовательский анализ, в ходе которого предстоит выяснить самых популярных исполнителей, тенденцию по количествам стримов по годам, и т.д."
      ]
    },
    {
      "cell_type": "markdown",
      "id": "17fd6267-3145-4a6f-a1d8-ecbaef4c64bf",
      "metadata": {
        "id": "17fd6267-3145-4a6f-a1d8-ecbaef4c64bf"
      },
      "source": [
        "План анализа:\n",
        "- 1 Изначально рассмотрю DataFrame на пригодность для анализа\n",
        "- 2 Проведу предобработку с целью упрощения дальнейшего анализа, а так же устранения пропусков или, возможных, аномальных значений.\n",
        "- 3 Проведу исследовательский анализ данных для оценки важнейших показателей:\n",
        "  - 3.1 Исполнители с наибольшим количеством треков\n",
        "  - 3.2 Самые прослушиваемые исполнители\n",
        "  - 3.3 Являются ли самые активные исполнители наиболее прослушиваемыми?\n",
        "  - 3.4 Есть ли зависимость определенных качеств треков к количеству стримов?\n",
        "  - 3.5 Какая тендеция использования стриминговых сервисов по годам?\n",
        "  - 3.6 Какая стриминговая платформа является самой популярной у пользователей?\n",
        "- 4 Составлю вывод о результатах исследования"
      ]
    },
    {
      "cell_type": "markdown",
      "id": "95d75617-3824-493a-bb25-430a09b432fe",
      "metadata": {
        "id": "95d75617-3824-493a-bb25-430a09b432fe"
      },
      "source": [
        "## 1. Импорт библиотек и извлечение DataFrame"
      ]
    },
    {
      "cell_type": "code",
      "execution_count": null,
      "id": "cdb0182d-70c0-4139-be34-5f7ebcedd1bc",
      "metadata": {
        "id": "cdb0182d-70c0-4139-be34-5f7ebcedd1bc"
      },
      "outputs": [],
      "source": [
        "import pandas as pd #Библиотека для обработки DataFrame\n",
        "import seaborn as sns #Библиотека для постройки графиков\n",
        "import datetime as dt #Библиотека для работы с датами\n",
        "import matplotlib.pyplot as plt #Библиотека для задачи аттрибутов графиков\n",
        "plt.rcParams[\"figure.figsize\"] = (15,5)\n",
        "import numpy as np #Библиотека для использования математических функций\n",
        "import warnings #Библиотека для того, чтобы убрать сообщения об \"ошибках\"\n",
        "warnings.filterwarnings('ignore')"
      ]
    },
    {
      "cell_type": "markdown",
      "id": "b707bd56-ac01-4465-afe0-c8318ab73c2d",
      "metadata": {
        "id": "b707bd56-ac01-4465-afe0-c8318ab73c2d"
      },
      "source": [
        "Сам DataFrame получим из csv файла, найденного на беслпатном ресурсе kaggle (https://www.kaggle.com/datasets/zeesolver/spotfy?resource=download)\n",
        "\n",
        "Внутри используется не utf-8, так что внесем изменения"
      ]
    },
    {
      "cell_type": "code",
      "execution_count": null,
      "id": "2aa9fde4-2c90-439a-8282-c81b2c54de7c",
      "metadata": {
        "scrolled": true,
        "id": "2aa9fde4-2c90-439a-8282-c81b2c54de7c",
        "outputId": "60064263-e1c1-4207-a9c3-d294485f70c2"
      },
      "outputs": [
        {
          "data": {
            "text/html": [
              "<div>\n",
              "<style scoped>\n",
              "    .dataframe tbody tr th:only-of-type {\n",
              "        vertical-align: middle;\n",
              "    }\n",
              "\n",
              "    .dataframe tbody tr th {\n",
              "        vertical-align: top;\n",
              "    }\n",
              "\n",
              "    .dataframe thead th {\n",
              "        text-align: right;\n",
              "    }\n",
              "</style>\n",
              "<table border=\"1\" class=\"dataframe\">\n",
              "  <thead>\n",
              "    <tr style=\"text-align: right;\">\n",
              "      <th></th>\n",
              "      <th>track_name</th>\n",
              "      <th>artist(s)_name</th>\n",
              "      <th>artist_count</th>\n",
              "      <th>released_year</th>\n",
              "      <th>released_month</th>\n",
              "      <th>released_day</th>\n",
              "      <th>in_spotify_playlists</th>\n",
              "      <th>in_spotify_charts</th>\n",
              "      <th>streams</th>\n",
              "      <th>in_apple_playlists</th>\n",
              "      <th>...</th>\n",
              "      <th>bpm</th>\n",
              "      <th>key</th>\n",
              "      <th>mode</th>\n",
              "      <th>danceability_%</th>\n",
              "      <th>valence_%</th>\n",
              "      <th>energy_%</th>\n",
              "      <th>acousticness_%</th>\n",
              "      <th>instrumentalness_%</th>\n",
              "      <th>liveness_%</th>\n",
              "      <th>speechiness_%</th>\n",
              "    </tr>\n",
              "  </thead>\n",
              "  <tbody>\n",
              "    <tr>\n",
              "      <th>0</th>\n",
              "      <td>Seven (feat. Latto) (Explicit Ver.)</td>\n",
              "      <td>Latto, Jung Kook</td>\n",
              "      <td>2</td>\n",
              "      <td>2023</td>\n",
              "      <td>7</td>\n",
              "      <td>14</td>\n",
              "      <td>553</td>\n",
              "      <td>147</td>\n",
              "      <td>141381703</td>\n",
              "      <td>43</td>\n",
              "      <td>...</td>\n",
              "      <td>125</td>\n",
              "      <td>B</td>\n",
              "      <td>Major</td>\n",
              "      <td>80</td>\n",
              "      <td>89</td>\n",
              "      <td>83</td>\n",
              "      <td>31</td>\n",
              "      <td>0</td>\n",
              "      <td>8</td>\n",
              "      <td>4</td>\n",
              "    </tr>\n",
              "    <tr>\n",
              "      <th>1</th>\n",
              "      <td>LALA</td>\n",
              "      <td>Myke Towers</td>\n",
              "      <td>1</td>\n",
              "      <td>2023</td>\n",
              "      <td>3</td>\n",
              "      <td>23</td>\n",
              "      <td>1474</td>\n",
              "      <td>48</td>\n",
              "      <td>133716286</td>\n",
              "      <td>48</td>\n",
              "      <td>...</td>\n",
              "      <td>92</td>\n",
              "      <td>C#</td>\n",
              "      <td>Major</td>\n",
              "      <td>71</td>\n",
              "      <td>61</td>\n",
              "      <td>74</td>\n",
              "      <td>7</td>\n",
              "      <td>0</td>\n",
              "      <td>10</td>\n",
              "      <td>4</td>\n",
              "    </tr>\n",
              "    <tr>\n",
              "      <th>2</th>\n",
              "      <td>vampire</td>\n",
              "      <td>Olivia Rodrigo</td>\n",
              "      <td>1</td>\n",
              "      <td>2023</td>\n",
              "      <td>6</td>\n",
              "      <td>30</td>\n",
              "      <td>1397</td>\n",
              "      <td>113</td>\n",
              "      <td>140003974</td>\n",
              "      <td>94</td>\n",
              "      <td>...</td>\n",
              "      <td>138</td>\n",
              "      <td>F</td>\n",
              "      <td>Major</td>\n",
              "      <td>51</td>\n",
              "      <td>32</td>\n",
              "      <td>53</td>\n",
              "      <td>17</td>\n",
              "      <td>0</td>\n",
              "      <td>31</td>\n",
              "      <td>6</td>\n",
              "    </tr>\n",
              "    <tr>\n",
              "      <th>3</th>\n",
              "      <td>Cruel Summer</td>\n",
              "      <td>Taylor Swift</td>\n",
              "      <td>1</td>\n",
              "      <td>2019</td>\n",
              "      <td>8</td>\n",
              "      <td>23</td>\n",
              "      <td>7858</td>\n",
              "      <td>100</td>\n",
              "      <td>800840817</td>\n",
              "      <td>116</td>\n",
              "      <td>...</td>\n",
              "      <td>170</td>\n",
              "      <td>A</td>\n",
              "      <td>Major</td>\n",
              "      <td>55</td>\n",
              "      <td>58</td>\n",
              "      <td>72</td>\n",
              "      <td>11</td>\n",
              "      <td>0</td>\n",
              "      <td>11</td>\n",
              "      <td>15</td>\n",
              "    </tr>\n",
              "    <tr>\n",
              "      <th>4</th>\n",
              "      <td>WHERE SHE GOES</td>\n",
              "      <td>Bad Bunny</td>\n",
              "      <td>1</td>\n",
              "      <td>2023</td>\n",
              "      <td>5</td>\n",
              "      <td>18</td>\n",
              "      <td>3133</td>\n",
              "      <td>50</td>\n",
              "      <td>303236322</td>\n",
              "      <td>84</td>\n",
              "      <td>...</td>\n",
              "      <td>144</td>\n",
              "      <td>A</td>\n",
              "      <td>Minor</td>\n",
              "      <td>65</td>\n",
              "      <td>23</td>\n",
              "      <td>80</td>\n",
              "      <td>14</td>\n",
              "      <td>63</td>\n",
              "      <td>11</td>\n",
              "      <td>6</td>\n",
              "    </tr>\n",
              "  </tbody>\n",
              "</table>\n",
              "<p>5 rows × 24 columns</p>\n",
              "</div>"
            ],
            "text/plain": [
              "                            track_name    artist(s)_name  artist_count  \\\n",
              "0  Seven (feat. Latto) (Explicit Ver.)  Latto, Jung Kook             2   \n",
              "1                                 LALA       Myke Towers             1   \n",
              "2                              vampire    Olivia Rodrigo             1   \n",
              "3                         Cruel Summer      Taylor Swift             1   \n",
              "4                       WHERE SHE GOES         Bad Bunny             1   \n",
              "\n",
              "   released_year  released_month  released_day  in_spotify_playlists  \\\n",
              "0           2023               7            14                   553   \n",
              "1           2023               3            23                  1474   \n",
              "2           2023               6            30                  1397   \n",
              "3           2019               8            23                  7858   \n",
              "4           2023               5            18                  3133   \n",
              "\n",
              "   in_spotify_charts    streams  in_apple_playlists  ...  bpm key   mode  \\\n",
              "0                147  141381703                  43  ...  125   B  Major   \n",
              "1                 48  133716286                  48  ...   92  C#  Major   \n",
              "2                113  140003974                  94  ...  138   F  Major   \n",
              "3                100  800840817                 116  ...  170   A  Major   \n",
              "4                 50  303236322                  84  ...  144   A  Minor   \n",
              "\n",
              "  danceability_%  valence_% energy_% acousticness_%  instrumentalness_%  \\\n",
              "0             80         89       83             31                   0   \n",
              "1             71         61       74              7                   0   \n",
              "2             51         32       53             17                   0   \n",
              "3             55         58       72             11                   0   \n",
              "4             65         23       80             14                  63   \n",
              "\n",
              "   liveness_%  speechiness_%  \n",
              "0           8              4  \n",
              "1          10              4  \n",
              "2          31              6  \n",
              "3          11             15  \n",
              "4          11              6  \n",
              "\n",
              "[5 rows x 24 columns]"
            ]
          },
          "execution_count": 2,
          "metadata": {},
          "output_type": "execute_result"
        }
      ],
      "source": [
        "df = pd.read_csv('C:/Users/User/Documents/DataSets_For_Jupyter/Popular_Spotify_Songs.csv', encoding='latin1')\n",
        "df.head()"
      ]
    },
    {
      "cell_type": "markdown",
      "id": "f7de4019-7e87-451a-92b5-54377187cbf2",
      "metadata": {
        "id": "f7de4019-7e87-451a-92b5-54377187cbf2"
      },
      "source": [
        "## 2 Предобработка DataFrame"
      ]
    },
    {
      "cell_type": "markdown",
      "id": "3b02d0ef-953e-4bd1-87d8-bf7ac6843f26",
      "metadata": {
        "id": "3b02d0ef-953e-4bd1-87d8-bf7ac6843f26"
      },
      "source": [
        "Взглянем на то, что имеем"
      ]
    },
    {
      "cell_type": "code",
      "execution_count": null,
      "id": "e8343217-9b61-4fd8-8dc3-58830e30ea92",
      "metadata": {
        "id": "e8343217-9b61-4fd8-8dc3-58830e30ea92",
        "outputId": "9fbfcf76-432d-4580-ff5f-c613b73e47d1"
      },
      "outputs": [
        {
          "name": "stdout",
          "output_type": "stream",
          "text": [
            "<class 'pandas.core.frame.DataFrame'>\n",
            "RangeIndex: 953 entries, 0 to 952\n",
            "Data columns (total 24 columns):\n",
            " #   Column                Non-Null Count  Dtype \n",
            "---  ------                --------------  ----- \n",
            " 0   track_name            953 non-null    object\n",
            " 1   artist(s)_name        953 non-null    object\n",
            " 2   artist_count          953 non-null    int64 \n",
            " 3   released_year         953 non-null    int64 \n",
            " 4   released_month        953 non-null    int64 \n",
            " 5   released_day          953 non-null    int64 \n",
            " 6   in_spotify_playlists  953 non-null    int64 \n",
            " 7   in_spotify_charts     953 non-null    int64 \n",
            " 8   streams               953 non-null    object\n",
            " 9   in_apple_playlists    953 non-null    int64 \n",
            " 10  in_apple_charts       953 non-null    int64 \n",
            " 11  in_deezer_playlists   953 non-null    object\n",
            " 12  in_deezer_charts      953 non-null    int64 \n",
            " 13  in_shazam_charts      903 non-null    object\n",
            " 14  bpm                   953 non-null    int64 \n",
            " 15  key                   858 non-null    object\n",
            " 16  mode                  953 non-null    object\n",
            " 17  danceability_%        953 non-null    int64 \n",
            " 18  valence_%             953 non-null    int64 \n",
            " 19  energy_%              953 non-null    int64 \n",
            " 20  acousticness_%        953 non-null    int64 \n",
            " 21  instrumentalness_%    953 non-null    int64 \n",
            " 22  liveness_%            953 non-null    int64 \n",
            " 23  speechiness_%         953 non-null    int64 \n",
            "dtypes: int64(17), object(7)\n",
            "memory usage: 178.8+ KB\n"
          ]
        }
      ],
      "source": [
        "df.info()"
      ]
    },
    {
      "cell_type": "markdown",
      "id": "99057ec7-0dfb-434b-910c-25ecdfa49c2a",
      "metadata": {
        "id": "99057ec7-0dfb-434b-910c-25ecdfa49c2a"
      },
      "source": [
        "Сразу переименуем столбцы для удобства"
      ]
    },
    {
      "cell_type": "code",
      "execution_count": null,
      "id": "bec4fe49-836b-46e1-ae78-e6510d935f6f",
      "metadata": {
        "id": "bec4fe49-836b-46e1-ae78-e6510d935f6f"
      },
      "outputs": [],
      "source": [
        "df.rename(columns=lambda x: x.replace('_%', ''), inplace=True)"
      ]
    },
    {
      "cell_type": "markdown",
      "id": "59dcb9be-836a-485c-9b24-9478787234d7",
      "metadata": {
        "id": "59dcb9be-836a-485c-9b24-9478787234d7"
      },
      "source": [
        "### 2.1 Обработка пропусков"
      ]
    },
    {
      "cell_type": "markdown",
      "id": "427c607f-b7b9-423b-9797-0f7afc57549f",
      "metadata": {
        "id": "427c607f-b7b9-423b-9797-0f7afc57549f"
      },
      "source": [
        "Видим, что некоторые столбцы имеют неправильный тип данных, а также, что есть определенное количество пропусков. Взглянем поподробнее на них."
      ]
    },
    {
      "cell_type": "code",
      "execution_count": null,
      "id": "663ccbe2-88a0-4d9c-9ec5-0297aae5e624",
      "metadata": {
        "id": "663ccbe2-88a0-4d9c-9ec5-0297aae5e624",
        "outputId": "23001627-3048-4c52-884f-ae1ffa99ff97"
      },
      "outputs": [
        {
          "data": {
            "text/html": [
              "<style type=\"text/css\">\n",
              "#T_8ba6b_row0_col0 {\n",
              "  background-color: #b40426;\n",
              "  color: #f1f1f1;\n",
              "}\n",
              "#T_8ba6b_row1_col0 {\n",
              "  background-color: #dddcdc;\n",
              "  color: #000000;\n",
              "}\n",
              "#T_8ba6b_row2_col0, #T_8ba6b_row3_col0, #T_8ba6b_row4_col0, #T_8ba6b_row5_col0, #T_8ba6b_row6_col0, #T_8ba6b_row7_col0, #T_8ba6b_row8_col0, #T_8ba6b_row9_col0, #T_8ba6b_row10_col0, #T_8ba6b_row11_col0, #T_8ba6b_row12_col0, #T_8ba6b_row13_col0, #T_8ba6b_row14_col0, #T_8ba6b_row15_col0, #T_8ba6b_row16_col0, #T_8ba6b_row17_col0, #T_8ba6b_row18_col0, #T_8ba6b_row19_col0, #T_8ba6b_row20_col0, #T_8ba6b_row21_col0, #T_8ba6b_row22_col0, #T_8ba6b_row23_col0 {\n",
              "  background-color: #3b4cc0;\n",
              "  color: #f1f1f1;\n",
              "}\n",
              "</style>\n",
              "<table id=\"T_8ba6b\">\n",
              "  <thead>\n",
              "    <tr>\n",
              "      <th class=\"blank level0\" >&nbsp;</th>\n",
              "      <th id=\"T_8ba6b_level0_col0\" class=\"col_heading level0 col0\" >0</th>\n",
              "    </tr>\n",
              "  </thead>\n",
              "  <tbody>\n",
              "    <tr>\n",
              "      <th id=\"T_8ba6b_level0_row0\" class=\"row_heading level0 row0\" >key</th>\n",
              "      <td id=\"T_8ba6b_row0_col0\" class=\"data row0 col0\" >10.000000</td>\n",
              "    </tr>\n",
              "    <tr>\n",
              "      <th id=\"T_8ba6b_level0_row1\" class=\"row_heading level0 row1\" >in_shazam_charts</th>\n",
              "      <td id=\"T_8ba6b_row1_col0\" class=\"data row1 col0\" >5.000000</td>\n",
              "    </tr>\n",
              "    <tr>\n",
              "      <th id=\"T_8ba6b_level0_row2\" class=\"row_heading level0 row2\" >track_name</th>\n",
              "      <td id=\"T_8ba6b_row2_col0\" class=\"data row2 col0\" >0.000000</td>\n",
              "    </tr>\n",
              "    <tr>\n",
              "      <th id=\"T_8ba6b_level0_row3\" class=\"row_heading level0 row3\" >artist(s)_name</th>\n",
              "      <td id=\"T_8ba6b_row3_col0\" class=\"data row3 col0\" >0.000000</td>\n",
              "    </tr>\n",
              "    <tr>\n",
              "      <th id=\"T_8ba6b_level0_row4\" class=\"row_heading level0 row4\" >liveness</th>\n",
              "      <td id=\"T_8ba6b_row4_col0\" class=\"data row4 col0\" >0.000000</td>\n",
              "    </tr>\n",
              "    <tr>\n",
              "      <th id=\"T_8ba6b_level0_row5\" class=\"row_heading level0 row5\" >instrumentalness</th>\n",
              "      <td id=\"T_8ba6b_row5_col0\" class=\"data row5 col0\" >0.000000</td>\n",
              "    </tr>\n",
              "    <tr>\n",
              "      <th id=\"T_8ba6b_level0_row6\" class=\"row_heading level0 row6\" >acousticness</th>\n",
              "      <td id=\"T_8ba6b_row6_col0\" class=\"data row6 col0\" >0.000000</td>\n",
              "    </tr>\n",
              "    <tr>\n",
              "      <th id=\"T_8ba6b_level0_row7\" class=\"row_heading level0 row7\" >energy</th>\n",
              "      <td id=\"T_8ba6b_row7_col0\" class=\"data row7 col0\" >0.000000</td>\n",
              "    </tr>\n",
              "    <tr>\n",
              "      <th id=\"T_8ba6b_level0_row8\" class=\"row_heading level0 row8\" >valence</th>\n",
              "      <td id=\"T_8ba6b_row8_col0\" class=\"data row8 col0\" >0.000000</td>\n",
              "    </tr>\n",
              "    <tr>\n",
              "      <th id=\"T_8ba6b_level0_row9\" class=\"row_heading level0 row9\" >danceability</th>\n",
              "      <td id=\"T_8ba6b_row9_col0\" class=\"data row9 col0\" >0.000000</td>\n",
              "    </tr>\n",
              "    <tr>\n",
              "      <th id=\"T_8ba6b_level0_row10\" class=\"row_heading level0 row10\" >mode</th>\n",
              "      <td id=\"T_8ba6b_row10_col0\" class=\"data row10 col0\" >0.000000</td>\n",
              "    </tr>\n",
              "    <tr>\n",
              "      <th id=\"T_8ba6b_level0_row11\" class=\"row_heading level0 row11\" >bpm</th>\n",
              "      <td id=\"T_8ba6b_row11_col0\" class=\"data row11 col0\" >0.000000</td>\n",
              "    </tr>\n",
              "    <tr>\n",
              "      <th id=\"T_8ba6b_level0_row12\" class=\"row_heading level0 row12\" >in_deezer_charts</th>\n",
              "      <td id=\"T_8ba6b_row12_col0\" class=\"data row12 col0\" >0.000000</td>\n",
              "    </tr>\n",
              "    <tr>\n",
              "      <th id=\"T_8ba6b_level0_row13\" class=\"row_heading level0 row13\" >in_deezer_playlists</th>\n",
              "      <td id=\"T_8ba6b_row13_col0\" class=\"data row13 col0\" >0.000000</td>\n",
              "    </tr>\n",
              "    <tr>\n",
              "      <th id=\"T_8ba6b_level0_row14\" class=\"row_heading level0 row14\" >in_apple_charts</th>\n",
              "      <td id=\"T_8ba6b_row14_col0\" class=\"data row14 col0\" >0.000000</td>\n",
              "    </tr>\n",
              "    <tr>\n",
              "      <th id=\"T_8ba6b_level0_row15\" class=\"row_heading level0 row15\" >in_apple_playlists</th>\n",
              "      <td id=\"T_8ba6b_row15_col0\" class=\"data row15 col0\" >0.000000</td>\n",
              "    </tr>\n",
              "    <tr>\n",
              "      <th id=\"T_8ba6b_level0_row16\" class=\"row_heading level0 row16\" >streams</th>\n",
              "      <td id=\"T_8ba6b_row16_col0\" class=\"data row16 col0\" >0.000000</td>\n",
              "    </tr>\n",
              "    <tr>\n",
              "      <th id=\"T_8ba6b_level0_row17\" class=\"row_heading level0 row17\" >in_spotify_charts</th>\n",
              "      <td id=\"T_8ba6b_row17_col0\" class=\"data row17 col0\" >0.000000</td>\n",
              "    </tr>\n",
              "    <tr>\n",
              "      <th id=\"T_8ba6b_level0_row18\" class=\"row_heading level0 row18\" >in_spotify_playlists</th>\n",
              "      <td id=\"T_8ba6b_row18_col0\" class=\"data row18 col0\" >0.000000</td>\n",
              "    </tr>\n",
              "    <tr>\n",
              "      <th id=\"T_8ba6b_level0_row19\" class=\"row_heading level0 row19\" >released_day</th>\n",
              "      <td id=\"T_8ba6b_row19_col0\" class=\"data row19 col0\" >0.000000</td>\n",
              "    </tr>\n",
              "    <tr>\n",
              "      <th id=\"T_8ba6b_level0_row20\" class=\"row_heading level0 row20\" >released_month</th>\n",
              "      <td id=\"T_8ba6b_row20_col0\" class=\"data row20 col0\" >0.000000</td>\n",
              "    </tr>\n",
              "    <tr>\n",
              "      <th id=\"T_8ba6b_level0_row21\" class=\"row_heading level0 row21\" >released_year</th>\n",
              "      <td id=\"T_8ba6b_row21_col0\" class=\"data row21 col0\" >0.000000</td>\n",
              "    </tr>\n",
              "    <tr>\n",
              "      <th id=\"T_8ba6b_level0_row22\" class=\"row_heading level0 row22\" >artist_count</th>\n",
              "      <td id=\"T_8ba6b_row22_col0\" class=\"data row22 col0\" >0.000000</td>\n",
              "    </tr>\n",
              "    <tr>\n",
              "      <th id=\"T_8ba6b_level0_row23\" class=\"row_heading level0 row23\" >speechiness</th>\n",
              "      <td id=\"T_8ba6b_row23_col0\" class=\"data row23 col0\" >0.000000</td>\n",
              "    </tr>\n",
              "  </tbody>\n",
              "</table>\n"
            ],
            "text/plain": [
              "<pandas.io.formats.style.Styler at 0x16073272010>"
            ]
          },
          "execution_count": 5,
          "metadata": {},
          "output_type": "execute_result"
        }
      ],
      "source": [
        "pd.DataFrame(round(df.isna().mean()*100)).sort_values(by=0, ascending=False).style.background_gradient('coolwarm')"
      ]
    },
    {
      "cell_type": "markdown",
      "id": "1eee4d90-028d-411a-8a8f-00cb53bfdefc",
      "metadata": {
        "id": "1eee4d90-028d-411a-8a8f-00cb53bfdefc"
      },
      "source": [
        "Цифры в данной таблице представляют проценты от общего количества. Попробуем от них избавиться"
      ]
    },
    {
      "cell_type": "markdown",
      "id": "950420bf-4241-4baf-8b76-f167c002e4c5",
      "metadata": {
        "id": "950420bf-4241-4baf-8b76-f167c002e4c5"
      },
      "source": [
        "Сначала проверим, зависят ли они друг от друга:"
      ]
    },
    {
      "cell_type": "code",
      "execution_count": null,
      "id": "d4cf0fa3-acfc-486b-b6f0-1d10842708ef",
      "metadata": {
        "scrolled": true,
        "id": "d4cf0fa3-acfc-486b-b6f0-1d10842708ef",
        "outputId": "79f9232b-8b94-492e-db78-45cd3850c4de"
      },
      "outputs": [
        {
          "data": {
            "text/html": [
              "<div>\n",
              "<style scoped>\n",
              "    .dataframe tbody tr th:only-of-type {\n",
              "        vertical-align: middle;\n",
              "    }\n",
              "\n",
              "    .dataframe tbody tr th {\n",
              "        vertical-align: top;\n",
              "    }\n",
              "\n",
              "    .dataframe thead th {\n",
              "        text-align: right;\n",
              "    }\n",
              "</style>\n",
              "<table border=\"1\" class=\"dataframe\">\n",
              "  <thead>\n",
              "    <tr style=\"text-align: right;\">\n",
              "      <th></th>\n",
              "      <th>track_name</th>\n",
              "      <th>artist(s)_name</th>\n",
              "      <th>artist_count</th>\n",
              "      <th>released_year</th>\n",
              "      <th>released_month</th>\n",
              "      <th>released_day</th>\n",
              "      <th>in_spotify_playlists</th>\n",
              "      <th>in_spotify_charts</th>\n",
              "      <th>streams</th>\n",
              "      <th>in_apple_playlists</th>\n",
              "      <th>...</th>\n",
              "      <th>bpm</th>\n",
              "      <th>key</th>\n",
              "      <th>mode</th>\n",
              "      <th>danceability</th>\n",
              "      <th>valence</th>\n",
              "      <th>energy</th>\n",
              "      <th>acousticness</th>\n",
              "      <th>instrumentalness</th>\n",
              "      <th>liveness</th>\n",
              "      <th>speechiness</th>\n",
              "    </tr>\n",
              "  </thead>\n",
              "  <tbody>\n",
              "    <tr>\n",
              "      <th>127</th>\n",
              "      <td>Watermelon Sugar</td>\n",
              "      <td>Harry Styles</td>\n",
              "      <td>1</td>\n",
              "      <td>2019</td>\n",
              "      <td>11</td>\n",
              "      <td>17</td>\n",
              "      <td>21915</td>\n",
              "      <td>34</td>\n",
              "      <td>2322580122</td>\n",
              "      <td>437</td>\n",
              "      <td>...</td>\n",
              "      <td>95</td>\n",
              "      <td>NaN</td>\n",
              "      <td>Major</td>\n",
              "      <td>55</td>\n",
              "      <td>56</td>\n",
              "      <td>82</td>\n",
              "      <td>12</td>\n",
              "      <td>0</td>\n",
              "      <td>34</td>\n",
              "      <td>5</td>\n",
              "    </tr>\n",
              "    <tr>\n",
              "      <th>395</th>\n",
              "      <td>Space Song</td>\n",
              "      <td>Beach House</td>\n",
              "      <td>1</td>\n",
              "      <td>2015</td>\n",
              "      <td>1</td>\n",
              "      <td>1</td>\n",
              "      <td>17852</td>\n",
              "      <td>4</td>\n",
              "      <td>789753877</td>\n",
              "      <td>69</td>\n",
              "      <td>...</td>\n",
              "      <td>147</td>\n",
              "      <td>NaN</td>\n",
              "      <td>Minor</td>\n",
              "      <td>51</td>\n",
              "      <td>62</td>\n",
              "      <td>79</td>\n",
              "      <td>22</td>\n",
              "      <td>13</td>\n",
              "      <td>14</td>\n",
              "      <td>3</td>\n",
              "    </tr>\n",
              "    <tr>\n",
              "      <th>504</th>\n",
              "      <td>Out of Time</td>\n",
              "      <td>The Weeknd</td>\n",
              "      <td>1</td>\n",
              "      <td>2022</td>\n",
              "      <td>1</td>\n",
              "      <td>7</td>\n",
              "      <td>3711</td>\n",
              "      <td>0</td>\n",
              "      <td>339659802</td>\n",
              "      <td>49</td>\n",
              "      <td>...</td>\n",
              "      <td>93</td>\n",
              "      <td>NaN</td>\n",
              "      <td>Minor</td>\n",
              "      <td>65</td>\n",
              "      <td>82</td>\n",
              "      <td>74</td>\n",
              "      <td>27</td>\n",
              "      <td>0</td>\n",
              "      <td>32</td>\n",
              "      <td>5</td>\n",
              "    </tr>\n",
              "    <tr>\n",
              "      <th>506</th>\n",
              "      <td>We Don't Talk About Bruno</td>\n",
              "      <td>Adassa, Mauro Castillo, Stephanie Beatriz, Enc...</td>\n",
              "      <td>7</td>\n",
              "      <td>2021</td>\n",
              "      <td>11</td>\n",
              "      <td>19</td>\n",
              "      <td>2785</td>\n",
              "      <td>0</td>\n",
              "      <td>432719968</td>\n",
              "      <td>95</td>\n",
              "      <td>...</td>\n",
              "      <td>206</td>\n",
              "      <td>NaN</td>\n",
              "      <td>Minor</td>\n",
              "      <td>58</td>\n",
              "      <td>83</td>\n",
              "      <td>45</td>\n",
              "      <td>36</td>\n",
              "      <td>0</td>\n",
              "      <td>11</td>\n",
              "      <td>8</td>\n",
              "    </tr>\n",
              "    <tr>\n",
              "      <th>531</th>\n",
              "      <td>Happier Than Ever</td>\n",
              "      <td>Billie Eilish</td>\n",
              "      <td>1</td>\n",
              "      <td>2021</td>\n",
              "      <td>7</td>\n",
              "      <td>30</td>\n",
              "      <td>8476</td>\n",
              "      <td>0</td>\n",
              "      <td>1056760045</td>\n",
              "      <td>138</td>\n",
              "      <td>...</td>\n",
              "      <td>65</td>\n",
              "      <td>NaN</td>\n",
              "      <td>Major</td>\n",
              "      <td>31</td>\n",
              "      <td>31</td>\n",
              "      <td>24</td>\n",
              "      <td>76</td>\n",
              "      <td>0</td>\n",
              "      <td>14</td>\n",
              "      <td>4</td>\n",
              "    </tr>\n",
              "    <tr>\n",
              "      <th>532</th>\n",
              "      <td>Moth To A Flame (with The Weeknd)</td>\n",
              "      <td>The Weeknd, Swedish House Mafia</td>\n",
              "      <td>2</td>\n",
              "      <td>2021</td>\n",
              "      <td>10</td>\n",
              "      <td>22</td>\n",
              "      <td>7495</td>\n",
              "      <td>17</td>\n",
              "      <td>611994237</td>\n",
              "      <td>114</td>\n",
              "      <td>...</td>\n",
              "      <td>120</td>\n",
              "      <td>NaN</td>\n",
              "      <td>Minor</td>\n",
              "      <td>56</td>\n",
              "      <td>16</td>\n",
              "      <td>67</td>\n",
              "      <td>0</td>\n",
              "      <td>0</td>\n",
              "      <td>11</td>\n",
              "      <td>4</td>\n",
              "    </tr>\n",
              "    <tr>\n",
              "      <th>554</th>\n",
              "      <td>Peaches (feat. Daniel Caesar &amp; Giveon)</td>\n",
              "      <td>Justin Bieber, Daniel Caesar, Giveon</td>\n",
              "      <td>3</td>\n",
              "      <td>2021</td>\n",
              "      <td>3</td>\n",
              "      <td>19</td>\n",
              "      <td>14140</td>\n",
              "      <td>0</td>\n",
              "      <td>1445941661</td>\n",
              "      <td>231</td>\n",
              "      <td>...</td>\n",
              "      <td>90</td>\n",
              "      <td>NaN</td>\n",
              "      <td>Major</td>\n",
              "      <td>63</td>\n",
              "      <td>49</td>\n",
              "      <td>68</td>\n",
              "      <td>38</td>\n",
              "      <td>0</td>\n",
              "      <td>42</td>\n",
              "      <td>18</td>\n",
              "    </tr>\n",
              "    <tr>\n",
              "      <th>560</th>\n",
              "      <td>Life Goes On</td>\n",
              "      <td>Oliver Tree</td>\n",
              "      <td>1</td>\n",
              "      <td>2020</td>\n",
              "      <td>7</td>\n",
              "      <td>17</td>\n",
              "      <td>2868</td>\n",
              "      <td>0</td>\n",
              "      <td>501541661</td>\n",
              "      <td>43</td>\n",
              "      <td>...</td>\n",
              "      <td>80</td>\n",
              "      <td>NaN</td>\n",
              "      <td>Major</td>\n",
              "      <td>70</td>\n",
              "      <td>57</td>\n",
              "      <td>49</td>\n",
              "      <td>19</td>\n",
              "      <td>0</td>\n",
              "      <td>12</td>\n",
              "      <td>8</td>\n",
              "    </tr>\n",
              "    <tr>\n",
              "      <th>727</th>\n",
              "      <td>Somebody That I Used To Know</td>\n",
              "      <td>Gotye, Kimbra</td>\n",
              "      <td>2</td>\n",
              "      <td>2011</td>\n",
              "      <td>1</td>\n",
              "      <td>1</td>\n",
              "      <td>42798</td>\n",
              "      <td>0</td>\n",
              "      <td>1457139296</td>\n",
              "      <td>217</td>\n",
              "      <td>...</td>\n",
              "      <td>129</td>\n",
              "      <td>NaN</td>\n",
              "      <td>Major</td>\n",
              "      <td>86</td>\n",
              "      <td>75</td>\n",
              "      <td>52</td>\n",
              "      <td>54</td>\n",
              "      <td>0</td>\n",
              "      <td>10</td>\n",
              "      <td>4</td>\n",
              "    </tr>\n",
              "  </tbody>\n",
              "</table>\n",
              "<p>9 rows × 24 columns</p>\n",
              "</div>"
            ],
            "text/plain": [
              "                                 track_name  \\\n",
              "127                        Watermelon Sugar   \n",
              "395                              Space Song   \n",
              "504                             Out of Time   \n",
              "506               We Don't Talk About Bruno   \n",
              "531                       Happier Than Ever   \n",
              "532       Moth To A Flame (with The Weeknd)   \n",
              "554  Peaches (feat. Daniel Caesar & Giveon)   \n",
              "560                            Life Goes On   \n",
              "727            Somebody That I Used To Know   \n",
              "\n",
              "                                        artist(s)_name  artist_count  \\\n",
              "127                                       Harry Styles             1   \n",
              "395                                        Beach House             1   \n",
              "504                                         The Weeknd             1   \n",
              "506  Adassa, Mauro Castillo, Stephanie Beatriz, Enc...             7   \n",
              "531                                      Billie Eilish             1   \n",
              "532                    The Weeknd, Swedish House Mafia             2   \n",
              "554               Justin Bieber, Daniel Caesar, Giveon             3   \n",
              "560                                        Oliver Tree             1   \n",
              "727                                      Gotye, Kimbra             2   \n",
              "\n",
              "     released_year  released_month  released_day  in_spotify_playlists  \\\n",
              "127           2019              11            17                 21915   \n",
              "395           2015               1             1                 17852   \n",
              "504           2022               1             7                  3711   \n",
              "506           2021              11            19                  2785   \n",
              "531           2021               7            30                  8476   \n",
              "532           2021              10            22                  7495   \n",
              "554           2021               3            19                 14140   \n",
              "560           2020               7            17                  2868   \n",
              "727           2011               1             1                 42798   \n",
              "\n",
              "     in_spotify_charts     streams  in_apple_playlists  ...  bpm  key   mode  \\\n",
              "127                 34  2322580122                 437  ...   95  NaN  Major   \n",
              "395                  4   789753877                  69  ...  147  NaN  Minor   \n",
              "504                  0   339659802                  49  ...   93  NaN  Minor   \n",
              "506                  0   432719968                  95  ...  206  NaN  Minor   \n",
              "531                  0  1056760045                 138  ...   65  NaN  Major   \n",
              "532                 17   611994237                 114  ...  120  NaN  Minor   \n",
              "554                  0  1445941661                 231  ...   90  NaN  Major   \n",
              "560                  0   501541661                  43  ...   80  NaN  Major   \n",
              "727                  0  1457139296                 217  ...  129  NaN  Major   \n",
              "\n",
              "    danceability  valence energy acousticness  instrumentalness  liveness  \\\n",
              "127           55       56     82           12                 0        34   \n",
              "395           51       62     79           22                13        14   \n",
              "504           65       82     74           27                 0        32   \n",
              "506           58       83     45           36                 0        11   \n",
              "531           31       31     24           76                 0        14   \n",
              "532           56       16     67            0                 0        11   \n",
              "554           63       49     68           38                 0        42   \n",
              "560           70       57     49           19                 0        12   \n",
              "727           86       75     52           54                 0        10   \n",
              "\n",
              "     speechiness  \n",
              "127            5  \n",
              "395            3  \n",
              "504            5  \n",
              "506            8  \n",
              "531            4  \n",
              "532            4  \n",
              "554           18  \n",
              "560            8  \n",
              "727            4  \n",
              "\n",
              "[9 rows x 24 columns]"
            ]
          },
          "execution_count": 6,
          "metadata": {},
          "output_type": "execute_result"
        }
      ],
      "source": [
        "df[(df['in_shazam_charts'].isna()) & (df['key'].isna())]"
      ]
    },
    {
      "cell_type": "markdown",
      "id": "e294c017-2d6b-4851-a1d7-38980d4ea000",
      "metadata": {
        "id": "e294c017-2d6b-4851-a1d7-38980d4ea000"
      },
      "source": [
        "Всего 9 совпадений из возможных 50. Зависимости почти нет. Проверим столбец in_shazam_charts по уникальным значениям:"
      ]
    },
    {
      "cell_type": "code",
      "execution_count": null,
      "id": "e33fc8ee-2316-4ae5-9a22-dfd096eb1206",
      "metadata": {
        "id": "e33fc8ee-2316-4ae5-9a22-dfd096eb1206",
        "outputId": "310a5e75-bf1a-41c2-a739-d861c80d8046"
      },
      "outputs": [
        {
          "data": {
            "text/plain": [
              "array(['826', '382', '949', '548', '425', '946', '418', '194', '953',\n",
              "       '339', '251', '168', '1,021', '1,281', nan, '187', '0', '1,173',\n",
              "       '29', '150', '73', '139', '1,093', '96', '211', '325', '294',\n",
              "       '197', '27', '310', '354', '184', '212', '81', '82', '100', '62',\n",
              "       '69', '727', '311', '1,133', '102', '332', '259', '140', '16',\n",
              "       '110', '810', '176', '615', '210', '216', '215', '167', '37',\n",
              "       '171', '272', '529', '26', '5', '169', '230', '84', '154', '93',\n",
              "       '115', '72', '8', '323', '49', '1,451', '1,170', '429', '162',\n",
              "       '10', '478', '236', '200', '78', '266', '486', '204', '34', '202',\n",
              "       '312', '32', '153', '519', '458', '48', '666', '14', '925', '88',\n",
              "       '203', '44', '74', '638', '64', '71', '2', '3', '136', '148', '22',\n",
              "       '368', '1', '189', '52', '9', '31', '66', '208', '28', '558',\n",
              "       '195', '13', '60', '503', '56', '15', '454', '40', '285', '129',\n",
              "       '58', '117', '47', '20', '30', '80', '263', '116', '57', '39',\n",
              "       '111', '7', '166', '19', '99', '51', '109', '42', '33', '675',\n",
              "       '348', '36', '240', '113', '6', '23', '4', '182', '54', '438',\n",
              "       '11', '17', '50', '320', '55', '18', '38', '43', '105', '24', '63',\n",
              "       '444', '85', '21', '165', '103', '734', '61', '221', '59', '451',\n",
              "       '41', '192', '124', '25', '35', '46', '12', '75', '45', '77',\n",
              "       '160', '120', '121', '70', '206', '114', '128', '353', '101',\n",
              "       '141', '198', '68', '95'], dtype=object)"
            ]
          },
          "execution_count": 7,
          "metadata": {},
          "output_type": "execute_result"
        }
      ],
      "source": [
        "df['in_shazam_charts'].unique()"
      ]
    },
    {
      "cell_type": "markdown",
      "id": "21705f25-c12b-472d-aaf2-1b2767eee343",
      "metadata": {
        "id": "21705f25-c12b-472d-aaf2-1b2767eee343"
      },
      "source": [
        "Параллельно видим, что значения больше 1000 записаны через запятую. Исправим это"
      ]
    },
    {
      "cell_type": "code",
      "execution_count": null,
      "id": "cd9230f4-0a7c-4424-929a-5a3799d6c5a3",
      "metadata": {
        "id": "cd9230f4-0a7c-4424-929a-5a3799d6c5a3"
      },
      "outputs": [],
      "source": [
        "df['in_shazam_charts'] = df['in_shazam_charts'].replace('1,', '1', regex=True)"
      ]
    },
    {
      "cell_type": "markdown",
      "id": "12e8af25-3e1c-4294-8bab-d8ccb1cf479d",
      "metadata": {
        "id": "12e8af25-3e1c-4294-8bab-d8ccb1cf479d"
      },
      "source": [
        "Забегая вперед, такая же проблема будет и в in_deezer_playlists, так что исправим ее здесь"
      ]
    },
    {
      "cell_type": "code",
      "execution_count": null,
      "id": "648a8ec5-06bb-462a-9837-3fe15aae1605",
      "metadata": {
        "id": "648a8ec5-06bb-462a-9837-3fe15aae1605"
      },
      "outputs": [],
      "source": [
        "df['in_deezer_playlists'] = df['in_deezer_playlists'].replace(',', '', regex=True)"
      ]
    },
    {
      "cell_type": "code",
      "execution_count": null,
      "id": "599d4056-9d64-449d-a4ab-467d0b00e9b8",
      "metadata": {
        "id": "599d4056-9d64-449d-a4ab-467d0b00e9b8",
        "outputId": "2605eadb-f0c4-45ef-ff15-20739fae3ec5"
      },
      "outputs": [
        {
          "data": {
            "text/plain": [
              "array(['826', '382', '949', '548', '425', '946', '418', '194', '953',\n",
              "       '339', '251', '168', '1021', '1281', nan, '187', '0', '1173', '29',\n",
              "       '150', '73', '139', '1093', '96', '211', '325', '294', '197', '27',\n",
              "       '310', '354', '184', '212', '81', '82', '100', '62', '69', '727',\n",
              "       '311', '1133', '102', '332', '259', '140', '16', '110', '810',\n",
              "       '176', '615', '210', '216', '215', '167', '37', '171', '272',\n",
              "       '529', '26', '5', '169', '230', '84', '154', '93', '115', '72',\n",
              "       '8', '323', '49', '1451', '1170', '429', '162', '10', '478', '236',\n",
              "       '200', '78', '266', '486', '204', '34', '202', '312', '32', '153',\n",
              "       '519', '458', '48', '666', '14', '925', '88', '203', '44', '74',\n",
              "       '638', '64', '71', '2', '3', '136', '148', '22', '368', '1', '189',\n",
              "       '52', '9', '31', '66', '208', '28', '558', '195', '13', '60',\n",
              "       '503', '56', '15', '454', '40', '285', '129', '58', '117', '47',\n",
              "       '20', '30', '80', '263', '116', '57', '39', '111', '7', '166',\n",
              "       '19', '99', '51', '109', '42', '33', '675', '348', '36', '240',\n",
              "       '113', '6', '23', '4', '182', '54', '438', '11', '17', '50', '320',\n",
              "       '55', '18', '38', '43', '105', '24', '63', '444', '85', '21',\n",
              "       '165', '103', '734', '61', '221', '59', '451', '41', '192', '124',\n",
              "       '25', '35', '46', '12', '75', '45', '77', '160', '120', '121',\n",
              "       '70', '206', '114', '128', '353', '101', '141', '198', '68', '95'],\n",
              "      dtype=object)"
            ]
          },
          "execution_count": 10,
          "metadata": {},
          "output_type": "execute_result"
        }
      ],
      "source": [
        "df['in_shazam_charts'].unique()"
      ]
    },
    {
      "cell_type": "markdown",
      "id": "b57f6ba9-917e-4764-95c5-22b28003a0d0",
      "metadata": {
        "id": "b57f6ba9-917e-4764-95c5-22b28003a0d0"
      },
      "source": [
        "Если мы будем делать дальнейшие вычисления, то целесообразно оставить пропуски, так как их не так много. Но также изменим тип данных для возможности проведения вычислений."
      ]
    },
    {
      "cell_type": "code",
      "execution_count": null,
      "id": "fee704b1-ecb8-41c5-9d32-7e1c7c4fcd90",
      "metadata": {
        "id": "fee704b1-ecb8-41c5-9d32-7e1c7c4fcd90"
      },
      "outputs": [],
      "source": [
        "df['in_shazam_charts'] = df['in_shazam_charts'].astype('float64')"
      ]
    },
    {
      "cell_type": "code",
      "execution_count": null,
      "id": "8d7d045b-8330-44f9-8a7c-ce5c645cf450",
      "metadata": {
        "id": "8d7d045b-8330-44f9-8a7c-ce5c645cf450"
      },
      "outputs": [],
      "source": [
        "df['in_deezer_playlists'] = df['in_deezer_playlists'].astype('int64')"
      ]
    },
    {
      "cell_type": "code",
      "execution_count": null,
      "id": "f310ed55-cd9d-4e64-a361-400786b8153a",
      "metadata": {
        "id": "f310ed55-cd9d-4e64-a361-400786b8153a",
        "outputId": "d7b01101-2eee-4cd6-a164-c1911ad82702"
      },
      "outputs": [
        {
          "data": {
            "text/plain": [
              "54176.0"
            ]
          },
          "execution_count": 13,
          "metadata": {},
          "output_type": "execute_result"
        }
      ],
      "source": [
        "df['in_shazam_charts'].sum()"
      ]
    },
    {
      "cell_type": "markdown",
      "id": "fde14aff-7c21-4a8a-947e-7341d85596db",
      "metadata": {
        "id": "fde14aff-7c21-4a8a-947e-7341d85596db"
      },
      "source": [
        "Теперь посмотрим второй столбец с пропусками:"
      ]
    },
    {
      "cell_type": "code",
      "execution_count": null,
      "id": "f95d845d-68bf-49cb-aac9-2cde30330486",
      "metadata": {
        "id": "f95d845d-68bf-49cb-aac9-2cde30330486",
        "outputId": "185c5298-337b-4f7d-ece7-2f8eefe14b59"
      },
      "outputs": [
        {
          "data": {
            "text/plain": [
              "array(['B', 'C#', 'F', 'A', 'D', 'F#', nan, 'G#', 'G', 'E', 'A#', 'D#'],\n",
              "      dtype=object)"
            ]
          },
          "execution_count": 14,
          "metadata": {},
          "output_type": "execute_result"
        }
      ],
      "source": [
        "df['key'].unique()"
      ]
    },
    {
      "cell_type": "markdown",
      "id": "5e03d4f3-b307-4ff3-9735-141a07ff2a40",
      "metadata": {
        "id": "5e03d4f3-b307-4ff3-9735-141a07ff2a40"
      },
      "source": [
        "Здесь самым логичным решением будет замена на значение - заглушку"
      ]
    },
    {
      "cell_type": "code",
      "execution_count": null,
      "id": "8ec2543f-5f7e-41e1-9a3a-cbc59b91dbe9",
      "metadata": {
        "id": "8ec2543f-5f7e-41e1-9a3a-cbc59b91dbe9"
      },
      "outputs": [],
      "source": [
        "df['key'] = df['key'].fillna('unknown')"
      ]
    },
    {
      "cell_type": "markdown",
      "id": "39dfd22c-d187-4857-85b9-6bccb11623f7",
      "metadata": {
        "id": "39dfd22c-d187-4857-85b9-6bccb11623f7"
      },
      "source": [
        "### 2.2 Приведение к правильным типам данных"
      ]
    },
    {
      "cell_type": "markdown",
      "id": "7b0a8827-9603-4915-8e9a-4b1ef480017e",
      "metadata": {
        "id": "7b0a8827-9603-4915-8e9a-4b1ef480017e"
      },
      "source": [
        "Для анализа нам может пригодиться полная дата в формате даты. Сделаем отдельную колонку"
      ]
    },
    {
      "cell_type": "code",
      "execution_count": null,
      "id": "acaecbde-3d88-477f-b9da-ed967488ccd3",
      "metadata": {
        "id": "acaecbde-3d88-477f-b9da-ed967488ccd3"
      },
      "outputs": [],
      "source": [
        "df[['released_year', 'released_month', 'released_day']] = df[['released_year', 'released_month', 'released_day']].astype(str)"
      ]
    },
    {
      "cell_type": "code",
      "execution_count": null,
      "id": "f2bc635b-c71c-495c-8194-0ec72873a9fd",
      "metadata": {
        "id": "f2bc635b-c71c-495c-8194-0ec72873a9fd"
      },
      "outputs": [],
      "source": [
        "df['full_release_date'] = pd.to_datetime(df['released_year'] + '-' + df['released_month'] + '-' + df['released_day'])"
      ]
    },
    {
      "cell_type": "code",
      "execution_count": null,
      "id": "1690ad2a-657a-41cf-8278-022d66c2fbfe",
      "metadata": {
        "scrolled": true,
        "id": "1690ad2a-657a-41cf-8278-022d66c2fbfe",
        "outputId": "cc440e8a-2490-4aa7-f546-132a2743da8f"
      },
      "outputs": [
        {
          "data": {
            "text/html": [
              "<div>\n",
              "<style scoped>\n",
              "    .dataframe tbody tr th:only-of-type {\n",
              "        vertical-align: middle;\n",
              "    }\n",
              "\n",
              "    .dataframe tbody tr th {\n",
              "        vertical-align: top;\n",
              "    }\n",
              "\n",
              "    .dataframe thead th {\n",
              "        text-align: right;\n",
              "    }\n",
              "</style>\n",
              "<table border=\"1\" class=\"dataframe\">\n",
              "  <thead>\n",
              "    <tr style=\"text-align: right;\">\n",
              "      <th></th>\n",
              "      <th>track_name</th>\n",
              "      <th>artist(s)_name</th>\n",
              "      <th>artist_count</th>\n",
              "      <th>released_year</th>\n",
              "      <th>released_month</th>\n",
              "      <th>released_day</th>\n",
              "      <th>in_spotify_playlists</th>\n",
              "      <th>in_spotify_charts</th>\n",
              "      <th>streams</th>\n",
              "      <th>in_apple_playlists</th>\n",
              "      <th>...</th>\n",
              "      <th>key</th>\n",
              "      <th>mode</th>\n",
              "      <th>danceability</th>\n",
              "      <th>valence</th>\n",
              "      <th>energy</th>\n",
              "      <th>acousticness</th>\n",
              "      <th>instrumentalness</th>\n",
              "      <th>liveness</th>\n",
              "      <th>speechiness</th>\n",
              "      <th>full_release_date</th>\n",
              "    </tr>\n",
              "  </thead>\n",
              "  <tbody>\n",
              "    <tr>\n",
              "      <th>0</th>\n",
              "      <td>Seven (feat. Latto) (Explicit Ver.)</td>\n",
              "      <td>Latto, Jung Kook</td>\n",
              "      <td>2</td>\n",
              "      <td>2023</td>\n",
              "      <td>7</td>\n",
              "      <td>14</td>\n",
              "      <td>553</td>\n",
              "      <td>147</td>\n",
              "      <td>141381703</td>\n",
              "      <td>43</td>\n",
              "      <td>...</td>\n",
              "      <td>B</td>\n",
              "      <td>Major</td>\n",
              "      <td>80</td>\n",
              "      <td>89</td>\n",
              "      <td>83</td>\n",
              "      <td>31</td>\n",
              "      <td>0</td>\n",
              "      <td>8</td>\n",
              "      <td>4</td>\n",
              "      <td>2023-07-14</td>\n",
              "    </tr>\n",
              "    <tr>\n",
              "      <th>1</th>\n",
              "      <td>LALA</td>\n",
              "      <td>Myke Towers</td>\n",
              "      <td>1</td>\n",
              "      <td>2023</td>\n",
              "      <td>3</td>\n",
              "      <td>23</td>\n",
              "      <td>1474</td>\n",
              "      <td>48</td>\n",
              "      <td>133716286</td>\n",
              "      <td>48</td>\n",
              "      <td>...</td>\n",
              "      <td>C#</td>\n",
              "      <td>Major</td>\n",
              "      <td>71</td>\n",
              "      <td>61</td>\n",
              "      <td>74</td>\n",
              "      <td>7</td>\n",
              "      <td>0</td>\n",
              "      <td>10</td>\n",
              "      <td>4</td>\n",
              "      <td>2023-03-23</td>\n",
              "    </tr>\n",
              "    <tr>\n",
              "      <th>2</th>\n",
              "      <td>vampire</td>\n",
              "      <td>Olivia Rodrigo</td>\n",
              "      <td>1</td>\n",
              "      <td>2023</td>\n",
              "      <td>6</td>\n",
              "      <td>30</td>\n",
              "      <td>1397</td>\n",
              "      <td>113</td>\n",
              "      <td>140003974</td>\n",
              "      <td>94</td>\n",
              "      <td>...</td>\n",
              "      <td>F</td>\n",
              "      <td>Major</td>\n",
              "      <td>51</td>\n",
              "      <td>32</td>\n",
              "      <td>53</td>\n",
              "      <td>17</td>\n",
              "      <td>0</td>\n",
              "      <td>31</td>\n",
              "      <td>6</td>\n",
              "      <td>2023-06-30</td>\n",
              "    </tr>\n",
              "    <tr>\n",
              "      <th>3</th>\n",
              "      <td>Cruel Summer</td>\n",
              "      <td>Taylor Swift</td>\n",
              "      <td>1</td>\n",
              "      <td>2019</td>\n",
              "      <td>8</td>\n",
              "      <td>23</td>\n",
              "      <td>7858</td>\n",
              "      <td>100</td>\n",
              "      <td>800840817</td>\n",
              "      <td>116</td>\n",
              "      <td>...</td>\n",
              "      <td>A</td>\n",
              "      <td>Major</td>\n",
              "      <td>55</td>\n",
              "      <td>58</td>\n",
              "      <td>72</td>\n",
              "      <td>11</td>\n",
              "      <td>0</td>\n",
              "      <td>11</td>\n",
              "      <td>15</td>\n",
              "      <td>2019-08-23</td>\n",
              "    </tr>\n",
              "    <tr>\n",
              "      <th>4</th>\n",
              "      <td>WHERE SHE GOES</td>\n",
              "      <td>Bad Bunny</td>\n",
              "      <td>1</td>\n",
              "      <td>2023</td>\n",
              "      <td>5</td>\n",
              "      <td>18</td>\n",
              "      <td>3133</td>\n",
              "      <td>50</td>\n",
              "      <td>303236322</td>\n",
              "      <td>84</td>\n",
              "      <td>...</td>\n",
              "      <td>A</td>\n",
              "      <td>Minor</td>\n",
              "      <td>65</td>\n",
              "      <td>23</td>\n",
              "      <td>80</td>\n",
              "      <td>14</td>\n",
              "      <td>63</td>\n",
              "      <td>11</td>\n",
              "      <td>6</td>\n",
              "      <td>2023-05-18</td>\n",
              "    </tr>\n",
              "  </tbody>\n",
              "</table>\n",
              "<p>5 rows × 25 columns</p>\n",
              "</div>"
            ],
            "text/plain": [
              "                            track_name    artist(s)_name  artist_count  \\\n",
              "0  Seven (feat. Latto) (Explicit Ver.)  Latto, Jung Kook             2   \n",
              "1                                 LALA       Myke Towers             1   \n",
              "2                              vampire    Olivia Rodrigo             1   \n",
              "3                         Cruel Summer      Taylor Swift             1   \n",
              "4                       WHERE SHE GOES         Bad Bunny             1   \n",
              "\n",
              "  released_year released_month released_day  in_spotify_playlists  \\\n",
              "0          2023              7           14                   553   \n",
              "1          2023              3           23                  1474   \n",
              "2          2023              6           30                  1397   \n",
              "3          2019              8           23                  7858   \n",
              "4          2023              5           18                  3133   \n",
              "\n",
              "   in_spotify_charts    streams  in_apple_playlists  ...  key   mode  \\\n",
              "0                147  141381703                  43  ...    B  Major   \n",
              "1                 48  133716286                  48  ...   C#  Major   \n",
              "2                113  140003974                  94  ...    F  Major   \n",
              "3                100  800840817                 116  ...    A  Major   \n",
              "4                 50  303236322                  84  ...    A  Minor   \n",
              "\n",
              "   danceability  valence  energy acousticness instrumentalness  liveness  \\\n",
              "0            80       89      83           31                0         8   \n",
              "1            71       61      74            7                0        10   \n",
              "2            51       32      53           17                0        31   \n",
              "3            55       58      72           11                0        11   \n",
              "4            65       23      80           14               63        11   \n",
              "\n",
              "   speechiness  full_release_date  \n",
              "0            4         2023-07-14  \n",
              "1            4         2023-03-23  \n",
              "2            6         2023-06-30  \n",
              "3           15         2019-08-23  \n",
              "4            6         2023-05-18  \n",
              "\n",
              "[5 rows x 25 columns]"
            ]
          },
          "execution_count": 18,
          "metadata": {},
          "output_type": "execute_result"
        }
      ],
      "source": [
        "df.head()"
      ]
    },
    {
      "cell_type": "markdown",
      "id": "36637dd5-52d0-47b8-903e-87b7ff21d825",
      "metadata": {
        "id": "36637dd5-52d0-47b8-903e-87b7ff21d825"
      },
      "source": [
        "### 2.3 Создание сводной таблицы с информацией о треке и обработка каждого ее столбца"
      ]
    },
    {
      "cell_type": "markdown",
      "id": "4d71b126-3323-41aa-9237-e86d56fc0de3",
      "metadata": {
        "id": "4d71b126-3323-41aa-9237-e86d56fc0de3"
      },
      "source": [
        "В основном DataFrame содержится много информации, но для сегодняшнего анализа интересует нас только все, что связано с самим треком. Создадим отдельный DataFrame"
      ]
    },
    {
      "cell_type": "code",
      "execution_count": null,
      "id": "6688040e-fd7b-451b-8837-a9ccac6dcc3e",
      "metadata": {
        "id": "6688040e-fd7b-451b-8837-a9ccac6dcc3e"
      },
      "outputs": [],
      "source": [
        "song_info = df[['track_name', 'artist(s)_name', 'artist_count', 'streams', 'bpm', 'key', 'mode','danceability', 'valence', 'energy', 'acousticness', 'instrumentalness', 'liveness','speechiness']]"
      ]
    },
    {
      "cell_type": "code",
      "execution_count": null,
      "id": "80baddf9-bcb1-4437-9aab-11b40b4775fd",
      "metadata": {
        "scrolled": true,
        "id": "80baddf9-bcb1-4437-9aab-11b40b4775fd",
        "outputId": "2be2d37a-a5c3-47da-cd15-007e85cb0cf3"
      },
      "outputs": [
        {
          "data": {
            "text/html": [
              "<div>\n",
              "<style scoped>\n",
              "    .dataframe tbody tr th:only-of-type {\n",
              "        vertical-align: middle;\n",
              "    }\n",
              "\n",
              "    .dataframe tbody tr th {\n",
              "        vertical-align: top;\n",
              "    }\n",
              "\n",
              "    .dataframe thead th {\n",
              "        text-align: right;\n",
              "    }\n",
              "</style>\n",
              "<table border=\"1\" class=\"dataframe\">\n",
              "  <thead>\n",
              "    <tr style=\"text-align: right;\">\n",
              "      <th></th>\n",
              "      <th>track_name</th>\n",
              "      <th>artist(s)_name</th>\n",
              "      <th>artist_count</th>\n",
              "      <th>streams</th>\n",
              "      <th>bpm</th>\n",
              "      <th>key</th>\n",
              "      <th>mode</th>\n",
              "      <th>danceability</th>\n",
              "      <th>valence</th>\n",
              "      <th>energy</th>\n",
              "      <th>acousticness</th>\n",
              "      <th>instrumentalness</th>\n",
              "      <th>liveness</th>\n",
              "      <th>speechiness</th>\n",
              "    </tr>\n",
              "  </thead>\n",
              "  <tbody>\n",
              "    <tr>\n",
              "      <th>0</th>\n",
              "      <td>Seven (feat. Latto) (Explicit Ver.)</td>\n",
              "      <td>Latto, Jung Kook</td>\n",
              "      <td>2</td>\n",
              "      <td>141381703</td>\n",
              "      <td>125</td>\n",
              "      <td>B</td>\n",
              "      <td>Major</td>\n",
              "      <td>80</td>\n",
              "      <td>89</td>\n",
              "      <td>83</td>\n",
              "      <td>31</td>\n",
              "      <td>0</td>\n",
              "      <td>8</td>\n",
              "      <td>4</td>\n",
              "    </tr>\n",
              "    <tr>\n",
              "      <th>1</th>\n",
              "      <td>LALA</td>\n",
              "      <td>Myke Towers</td>\n",
              "      <td>1</td>\n",
              "      <td>133716286</td>\n",
              "      <td>92</td>\n",
              "      <td>C#</td>\n",
              "      <td>Major</td>\n",
              "      <td>71</td>\n",
              "      <td>61</td>\n",
              "      <td>74</td>\n",
              "      <td>7</td>\n",
              "      <td>0</td>\n",
              "      <td>10</td>\n",
              "      <td>4</td>\n",
              "    </tr>\n",
              "    <tr>\n",
              "      <th>2</th>\n",
              "      <td>vampire</td>\n",
              "      <td>Olivia Rodrigo</td>\n",
              "      <td>1</td>\n",
              "      <td>140003974</td>\n",
              "      <td>138</td>\n",
              "      <td>F</td>\n",
              "      <td>Major</td>\n",
              "      <td>51</td>\n",
              "      <td>32</td>\n",
              "      <td>53</td>\n",
              "      <td>17</td>\n",
              "      <td>0</td>\n",
              "      <td>31</td>\n",
              "      <td>6</td>\n",
              "    </tr>\n",
              "    <tr>\n",
              "      <th>3</th>\n",
              "      <td>Cruel Summer</td>\n",
              "      <td>Taylor Swift</td>\n",
              "      <td>1</td>\n",
              "      <td>800840817</td>\n",
              "      <td>170</td>\n",
              "      <td>A</td>\n",
              "      <td>Major</td>\n",
              "      <td>55</td>\n",
              "      <td>58</td>\n",
              "      <td>72</td>\n",
              "      <td>11</td>\n",
              "      <td>0</td>\n",
              "      <td>11</td>\n",
              "      <td>15</td>\n",
              "    </tr>\n",
              "    <tr>\n",
              "      <th>4</th>\n",
              "      <td>WHERE SHE GOES</td>\n",
              "      <td>Bad Bunny</td>\n",
              "      <td>1</td>\n",
              "      <td>303236322</td>\n",
              "      <td>144</td>\n",
              "      <td>A</td>\n",
              "      <td>Minor</td>\n",
              "      <td>65</td>\n",
              "      <td>23</td>\n",
              "      <td>80</td>\n",
              "      <td>14</td>\n",
              "      <td>63</td>\n",
              "      <td>11</td>\n",
              "      <td>6</td>\n",
              "    </tr>\n",
              "  </tbody>\n",
              "</table>\n",
              "</div>"
            ],
            "text/plain": [
              "                            track_name    artist(s)_name  artist_count  \\\n",
              "0  Seven (feat. Latto) (Explicit Ver.)  Latto, Jung Kook             2   \n",
              "1                                 LALA       Myke Towers             1   \n",
              "2                              vampire    Olivia Rodrigo             1   \n",
              "3                         Cruel Summer      Taylor Swift             1   \n",
              "4                       WHERE SHE GOES         Bad Bunny             1   \n",
              "\n",
              "     streams  bpm key   mode  danceability  valence  energy  acousticness  \\\n",
              "0  141381703  125   B  Major            80       89      83            31   \n",
              "1  133716286   92  C#  Major            71       61      74             7   \n",
              "2  140003974  138   F  Major            51       32      53            17   \n",
              "3  800840817  170   A  Major            55       58      72            11   \n",
              "4  303236322  144   A  Minor            65       23      80            14   \n",
              "\n",
              "   instrumentalness  liveness  speechiness  \n",
              "0                 0         8            4  \n",
              "1                 0        10            4  \n",
              "2                 0        31            6  \n",
              "3                 0        11           15  \n",
              "4                63        11            6  "
            ]
          },
          "execution_count": 20,
          "metadata": {},
          "output_type": "execute_result"
        }
      ],
      "source": [
        "song_info.head()"
      ]
    },
    {
      "cell_type": "markdown",
      "id": "c2f95645-1b49-44df-b9c9-ac8b7b84ee47",
      "metadata": {
        "id": "c2f95645-1b49-44df-b9c9-ac8b7b84ee47"
      },
      "source": [
        "Теперь пройдемся по каждому столбцу в отдельности и проверим его"
      ]
    },
    {
      "cell_type": "markdown",
      "id": "e793234b-fc79-477f-9c8a-d0bc9ea2b7b6",
      "metadata": {
        "id": "e793234b-fc79-477f-9c8a-d0bc9ea2b7b6"
      },
      "source": [
        "- 1 Видим, что названия треков в первом столбце построены по-разному. Приведем их к одноум регистру"
      ]
    },
    {
      "cell_type": "code",
      "execution_count": null,
      "id": "5b4c9f41-5bc9-4097-b382-a7f59cda29f1",
      "metadata": {
        "id": "5b4c9f41-5bc9-4097-b382-a7f59cda29f1"
      },
      "outputs": [],
      "source": [
        "song_info['track_name'] = song_info['track_name'].str.capitalize()"
      ]
    },
    {
      "cell_type": "markdown",
      "id": "2e8a7a23-e958-45e0-a34e-467e3fa8f9eb",
      "metadata": {
        "id": "2e8a7a23-e958-45e0-a34e-467e3fa8f9eb"
      },
      "source": [
        "- 2 Проверим, совпадает ли во всех случаях количество исполнителей с указанными."
      ]
    },
    {
      "cell_type": "code",
      "execution_count": null,
      "id": "262fb841-5c8e-4105-b310-2f500351686b",
      "metadata": {
        "id": "262fb841-5c8e-4105-b310-2f500351686b",
        "outputId": "ddb10db5-ae56-4719-8653-74f4ac7aeb41"
      },
      "outputs": [
        {
          "data": {
            "text/html": [
              "<div>\n",
              "<style scoped>\n",
              "    .dataframe tbody tr th:only-of-type {\n",
              "        vertical-align: middle;\n",
              "    }\n",
              "\n",
              "    .dataframe tbody tr th {\n",
              "        vertical-align: top;\n",
              "    }\n",
              "\n",
              "    .dataframe thead th {\n",
              "        text-align: right;\n",
              "    }\n",
              "</style>\n",
              "<table border=\"1\" class=\"dataframe\">\n",
              "  <thead>\n",
              "    <tr style=\"text-align: right;\">\n",
              "      <th></th>\n",
              "      <th>track_name</th>\n",
              "      <th>artist(s)_name</th>\n",
              "      <th>artist_count</th>\n",
              "      <th>streams</th>\n",
              "      <th>bpm</th>\n",
              "      <th>key</th>\n",
              "      <th>mode</th>\n",
              "      <th>danceability</th>\n",
              "      <th>valence</th>\n",
              "      <th>energy</th>\n",
              "      <th>acousticness</th>\n",
              "      <th>instrumentalness</th>\n",
              "      <th>liveness</th>\n",
              "      <th>speechiness</th>\n",
              "    </tr>\n",
              "  </thead>\n",
              "  <tbody>\n",
              "    <tr>\n",
              "      <th>667</th>\n",
              "      <td>Cayï¿½ï¿½ la noche (feat. cruz cafunï¿½ï¿½, ab...</td>\n",
              "      <td>Quevedo, La Pantera, Juseph, Cruz Cafunï¿½ï¿½,...</td>\n",
              "      <td>7</td>\n",
              "      <td>245400167</td>\n",
              "      <td>174</td>\n",
              "      <td>F</td>\n",
              "      <td>Minor</td>\n",
              "      <td>67</td>\n",
              "      <td>74</td>\n",
              "      <td>75</td>\n",
              "      <td>44</td>\n",
              "      <td>0</td>\n",
              "      <td>7</td>\n",
              "      <td>30</td>\n",
              "    </tr>\n",
              "  </tbody>\n",
              "</table>\n",
              "</div>"
            ],
            "text/plain": [
              "                                            track_name  \\\n",
              "667  Cayï¿½ï¿½ la noche (feat. cruz cafunï¿½ï¿½, ab...   \n",
              "\n",
              "                                        artist(s)_name  artist_count  \\\n",
              "667  Quevedo, La Pantera, Juseph, Cruz Cafunï¿½ï¿½,...             7   \n",
              "\n",
              "       streams  bpm key   mode  danceability  valence  energy  acousticness  \\\n",
              "667  245400167  174   F  Minor            67       74      75            44   \n",
              "\n",
              "     instrumentalness  liveness  speechiness  \n",
              "667                 0         7           30  "
            ]
          },
          "execution_count": 22,
          "metadata": {},
          "output_type": "execute_result"
        }
      ],
      "source": [
        "song_info[(song_info['artist(s)_name'].str.count(',') + 1) != song_info['artist_count']]"
      ]
    },
    {
      "cell_type": "markdown",
      "id": "0f6f381a-48ee-4524-89b0-bda7ad92778e",
      "metadata": {
        "id": "0f6f381a-48ee-4524-89b0-bda7ad92778e"
      },
      "source": [
        "Есть один пограничный случай, который вылез из-за непропечатавшихся арабских символов. Оставим его"
      ]
    },
    {
      "cell_type": "markdown",
      "id": "3b8d1cf0-d5fd-43d3-b628-d99f93fd6567",
      "metadata": {
        "id": "3b8d1cf0-d5fd-43d3-b628-d99f93fd6567"
      },
      "source": [
        "- 3 Проверим столбец streams"
      ]
    },
    {
      "cell_type": "code",
      "execution_count": null,
      "id": "85df88e2-cbbc-4469-adf1-bc914845fd23",
      "metadata": {
        "scrolled": true,
        "id": "85df88e2-cbbc-4469-adf1-bc914845fd23",
        "outputId": "af4bfc75-c10c-4ed9-f1eb-937dd5a406e9"
      },
      "outputs": [
        {
          "data": {
            "text/plain": [
              "('100409613',\n",
              " 'BPM110KeyAModeMajorDanceability53Valence75Energy69Acousticness7Instrumentalness0Liveness17Speechiness3')"
            ]
          },
          "execution_count": 23,
          "metadata": {},
          "output_type": "execute_result"
        }
      ],
      "source": [
        "song_info['streams'].min(), song_info['streams'].max()"
      ]
    },
    {
      "cell_type": "markdown",
      "id": "824d3037-1c53-4c76-9782-7439b7938f13",
      "metadata": {
        "id": "824d3037-1c53-4c76-9782-7439b7938f13"
      },
      "source": [
        "Видим странное максимальное значение. Проверим, не пустая ли строка из-за этого:"
      ]
    },
    {
      "cell_type": "code",
      "execution_count": null,
      "id": "16e7ead1-bfc6-4bbc-bc4d-70f5b3afb382",
      "metadata": {
        "id": "16e7ead1-bfc6-4bbc-bc4d-70f5b3afb382",
        "outputId": "ba79a17d-d3d9-40ea-d4e7-c76581ac7474"
      },
      "outputs": [
        {
          "data": {
            "text/html": [
              "<div>\n",
              "<style scoped>\n",
              "    .dataframe tbody tr th:only-of-type {\n",
              "        vertical-align: middle;\n",
              "    }\n",
              "\n",
              "    .dataframe tbody tr th {\n",
              "        vertical-align: top;\n",
              "    }\n",
              "\n",
              "    .dataframe thead th {\n",
              "        text-align: right;\n",
              "    }\n",
              "</style>\n",
              "<table border=\"1\" class=\"dataframe\">\n",
              "  <thead>\n",
              "    <tr style=\"text-align: right;\">\n",
              "      <th></th>\n",
              "      <th>track_name</th>\n",
              "      <th>artist(s)_name</th>\n",
              "      <th>artist_count</th>\n",
              "      <th>streams</th>\n",
              "      <th>bpm</th>\n",
              "      <th>key</th>\n",
              "      <th>mode</th>\n",
              "      <th>danceability</th>\n",
              "      <th>valence</th>\n",
              "      <th>energy</th>\n",
              "      <th>acousticness</th>\n",
              "      <th>instrumentalness</th>\n",
              "      <th>liveness</th>\n",
              "      <th>speechiness</th>\n",
              "    </tr>\n",
              "  </thead>\n",
              "  <tbody>\n",
              "    <tr>\n",
              "      <th>574</th>\n",
              "      <td>Love grows (where my rosemary goes)</td>\n",
              "      <td>Edison Lighthouse</td>\n",
              "      <td>1</td>\n",
              "      <td>BPM110KeyAModeMajorDanceability53Valence75Ener...</td>\n",
              "      <td>110</td>\n",
              "      <td>A</td>\n",
              "      <td>Major</td>\n",
              "      <td>53</td>\n",
              "      <td>75</td>\n",
              "      <td>69</td>\n",
              "      <td>7</td>\n",
              "      <td>0</td>\n",
              "      <td>17</td>\n",
              "      <td>3</td>\n",
              "    </tr>\n",
              "  </tbody>\n",
              "</table>\n",
              "</div>"
            ],
            "text/plain": [
              "                              track_name     artist(s)_name  artist_count  \\\n",
              "574  Love grows (where my rosemary goes)  Edison Lighthouse             1   \n",
              "\n",
              "                                               streams  bpm key   mode  \\\n",
              "574  BPM110KeyAModeMajorDanceability53Valence75Ener...  110   A  Major   \n",
              "\n",
              "     danceability  valence  energy  acousticness  instrumentalness  liveness  \\\n",
              "574            53       75      69             7                 0        17   \n",
              "\n",
              "     speechiness  \n",
              "574            3  "
            ]
          },
          "execution_count": 24,
          "metadata": {},
          "output_type": "execute_result"
        }
      ],
      "source": [
        "song_info[song_info['streams'] == song_info['streams'].max()]"
      ]
    },
    {
      "cell_type": "markdown",
      "id": "1d46202f-a3e0-46d1-af80-a95fedcbc810",
      "metadata": {
        "id": "1d46202f-a3e0-46d1-af80-a95fedcbc810"
      },
      "source": [
        "Видим, что только значение streams испортилось. Посмотрим, что с этим можно сделать. Проверим, насколько много треков у исполнителя:"
      ]
    },
    {
      "cell_type": "code",
      "execution_count": null,
      "id": "853b160b-0a2b-4d89-85be-6f0e54e921c3",
      "metadata": {
        "scrolled": true,
        "id": "853b160b-0a2b-4d89-85be-6f0e54e921c3",
        "outputId": "a1e1d0cb-c0f7-428d-cce5-6cb4959248f2"
      },
      "outputs": [
        {
          "data": {
            "text/html": [
              "<div>\n",
              "<style scoped>\n",
              "    .dataframe tbody tr th:only-of-type {\n",
              "        vertical-align: middle;\n",
              "    }\n",
              "\n",
              "    .dataframe tbody tr th {\n",
              "        vertical-align: top;\n",
              "    }\n",
              "\n",
              "    .dataframe thead th {\n",
              "        text-align: right;\n",
              "    }\n",
              "</style>\n",
              "<table border=\"1\" class=\"dataframe\">\n",
              "  <thead>\n",
              "    <tr style=\"text-align: right;\">\n",
              "      <th></th>\n",
              "      <th>track_name</th>\n",
              "      <th>artist(s)_name</th>\n",
              "      <th>artist_count</th>\n",
              "      <th>streams</th>\n",
              "      <th>bpm</th>\n",
              "      <th>key</th>\n",
              "      <th>mode</th>\n",
              "      <th>danceability</th>\n",
              "      <th>valence</th>\n",
              "      <th>energy</th>\n",
              "      <th>acousticness</th>\n",
              "      <th>instrumentalness</th>\n",
              "      <th>liveness</th>\n",
              "      <th>speechiness</th>\n",
              "    </tr>\n",
              "  </thead>\n",
              "  <tbody>\n",
              "    <tr>\n",
              "      <th>574</th>\n",
              "      <td>Love grows (where my rosemary goes)</td>\n",
              "      <td>Edison Lighthouse</td>\n",
              "      <td>1</td>\n",
              "      <td>BPM110KeyAModeMajorDanceability53Valence75Ener...</td>\n",
              "      <td>110</td>\n",
              "      <td>A</td>\n",
              "      <td>Major</td>\n",
              "      <td>53</td>\n",
              "      <td>75</td>\n",
              "      <td>69</td>\n",
              "      <td>7</td>\n",
              "      <td>0</td>\n",
              "      <td>17</td>\n",
              "      <td>3</td>\n",
              "    </tr>\n",
              "  </tbody>\n",
              "</table>\n",
              "</div>"
            ],
            "text/plain": [
              "                              track_name     artist(s)_name  artist_count  \\\n",
              "574  Love grows (where my rosemary goes)  Edison Lighthouse             1   \n",
              "\n",
              "                                               streams  bpm key   mode  \\\n",
              "574  BPM110KeyAModeMajorDanceability53Valence75Ener...  110   A  Major   \n",
              "\n",
              "     danceability  valence  energy  acousticness  instrumentalness  liveness  \\\n",
              "574            53       75      69             7                 0        17   \n",
              "\n",
              "     speechiness  \n",
              "574            3  "
            ]
          },
          "execution_count": 25,
          "metadata": {},
          "output_type": "execute_result"
        }
      ],
      "source": [
        "song_info[song_info['artist(s)_name'] == 'Edison Lighthouse']"
      ]
    },
    {
      "cell_type": "markdown",
      "id": "9e845b45-8e55-41f3-b963-08b4510d78bb",
      "metadata": {
        "id": "9e845b45-8e55-41f3-b963-08b4510d78bb"
      },
      "source": [
        "К сожалению, мы не можем заменить на медиану, так как не знаем, насколько исполнитель популярен. Вынуждены оставить 0"
      ]
    },
    {
      "cell_type": "code",
      "execution_count": null,
      "id": "11c00e6e-9293-4536-9bff-deb13b9649f0",
      "metadata": {
        "scrolled": true,
        "id": "11c00e6e-9293-4536-9bff-deb13b9649f0"
      },
      "outputs": [],
      "source": [
        "song_info.loc[song_info['streams'] == song_info['streams'].max(), 'streams'] = 0"
      ]
    },
    {
      "cell_type": "markdown",
      "id": "32774faa-a1bd-46ca-80c3-415daba56f85",
      "metadata": {
        "id": "32774faa-a1bd-46ca-80c3-415daba56f85"
      },
      "source": [
        "И переведем в формат цифр для дальнейших вычислений"
      ]
    },
    {
      "cell_type": "code",
      "execution_count": null,
      "id": "87165e49-2767-45de-acbb-1af1e9ab6e2c",
      "metadata": {
        "id": "87165e49-2767-45de-acbb-1af1e9ab6e2c"
      },
      "outputs": [],
      "source": [
        "song_info['streams'] = song_info['streams'].astype('int64')"
      ]
    },
    {
      "cell_type": "code",
      "execution_count": null,
      "id": "0a692a0d-768a-4d71-bede-fd7262a08134",
      "metadata": {
        "id": "0a692a0d-768a-4d71-bede-fd7262a08134",
        "outputId": "aa56ea57-e0a5-4e66-900d-884640a76b8c"
      },
      "outputs": [
        {
          "data": {
            "text/plain": [
              "(0, 3703895074)"
            ]
          },
          "execution_count": 28,
          "metadata": {},
          "output_type": "execute_result"
        }
      ],
      "source": [
        "song_info['streams'].min(), song_info['streams'].max()"
      ]
    },
    {
      "cell_type": "markdown",
      "id": "67725d7b-bf0e-46e3-94a0-782808928775",
      "metadata": {
        "id": "67725d7b-bf0e-46e3-94a0-782808928775"
      },
      "source": [
        "Теперь все как надо."
      ]
    },
    {
      "cell_type": "markdown",
      "id": "82c3ecb3-4e24-40ea-891d-29777fb6fa6b",
      "metadata": {
        "id": "82c3ecb3-4e24-40ea-891d-29777fb6fa6b"
      },
      "source": [
        "- 4 Теперь посмотрим, есть ли что-то, отличное от двух категорий в столбце mode:"
      ]
    },
    {
      "cell_type": "code",
      "execution_count": null,
      "id": "1b3636af-12ba-4846-9746-abf220d7e05d",
      "metadata": {
        "id": "1b3636af-12ba-4846-9746-abf220d7e05d",
        "outputId": "2d8d5afa-6d13-4b24-a5b9-36926f2ee4e8"
      },
      "outputs": [
        {
          "data": {
            "text/plain": [
              "array(['Major', 'Minor'], dtype=object)"
            ]
          },
          "execution_count": 29,
          "metadata": {},
          "output_type": "execute_result"
        }
      ],
      "source": [
        "song_info['mode'].unique()"
      ]
    },
    {
      "cell_type": "markdown",
      "id": "864cecbb-c046-4271-a214-41e78cfebb43",
      "metadata": {
        "id": "864cecbb-c046-4271-a214-41e78cfebb43"
      },
      "source": [
        "- 5 Дальше быстро пройдемся по оставшимся столбцам. Вычтем из максимального значения минимальное. Если ответ в пределах 100, значит аномалий нет"
      ]
    },
    {
      "cell_type": "code",
      "execution_count": null,
      "id": "552cd80b-9c99-4b72-8ff8-49bf319a9cb2",
      "metadata": {
        "id": "552cd80b-9c99-4b72-8ff8-49bf319a9cb2",
        "outputId": "29992ba5-a8db-425c-de65-fa1d4f2c765d"
      },
      "outputs": [
        {
          "data": {
            "text/plain": [
              "danceability        73\n",
              "valence             93\n",
              "energy              88\n",
              "acousticness        97\n",
              "instrumentalness    91\n",
              "liveness            94\n",
              "speechiness         62\n",
              "dtype: int64"
            ]
          },
          "execution_count": 30,
          "metadata": {},
          "output_type": "execute_result"
        }
      ],
      "source": [
        "song_info.iloc[:,7:].agg(lambda x: x.max() - x.min())"
      ]
    },
    {
      "cell_type": "markdown",
      "id": "bdfda6d8-a67a-417a-a1c8-580bf8e00087",
      "metadata": {
        "id": "bdfda6d8-a67a-417a-a1c8-580bf8e00087"
      },
      "source": [
        "Все в пределах сотни"
      ]
    },
    {
      "cell_type": "code",
      "execution_count": null,
      "id": "efdb7d68-8234-40eb-9513-a3a125eb71e5",
      "metadata": {
        "scrolled": true,
        "id": "efdb7d68-8234-40eb-9513-a3a125eb71e5",
        "outputId": "f5b22ab1-4f12-4fd6-b2da-c6cac1dea15f"
      },
      "outputs": [
        {
          "data": {
            "text/html": [
              "<div>\n",
              "<style scoped>\n",
              "    .dataframe tbody tr th:only-of-type {\n",
              "        vertical-align: middle;\n",
              "    }\n",
              "\n",
              "    .dataframe tbody tr th {\n",
              "        vertical-align: top;\n",
              "    }\n",
              "\n",
              "    .dataframe thead th {\n",
              "        text-align: right;\n",
              "    }\n",
              "</style>\n",
              "<table border=\"1\" class=\"dataframe\">\n",
              "  <thead>\n",
              "    <tr style=\"text-align: right;\">\n",
              "      <th></th>\n",
              "      <th>track_name</th>\n",
              "      <th>artist(s)_name</th>\n",
              "      <th>artist_count</th>\n",
              "      <th>streams</th>\n",
              "      <th>bpm</th>\n",
              "      <th>key</th>\n",
              "      <th>mode</th>\n",
              "      <th>danceability</th>\n",
              "      <th>valence</th>\n",
              "      <th>energy</th>\n",
              "      <th>acousticness</th>\n",
              "      <th>instrumentalness</th>\n",
              "      <th>liveness</th>\n",
              "      <th>speechiness</th>\n",
              "    </tr>\n",
              "  </thead>\n",
              "  <tbody>\n",
              "    <tr>\n",
              "      <th>0</th>\n",
              "      <td>Seven (feat. latto) (explicit ver.)</td>\n",
              "      <td>Latto, Jung Kook</td>\n",
              "      <td>2</td>\n",
              "      <td>141381703</td>\n",
              "      <td>125</td>\n",
              "      <td>B</td>\n",
              "      <td>Major</td>\n",
              "      <td>80</td>\n",
              "      <td>89</td>\n",
              "      <td>83</td>\n",
              "      <td>31</td>\n",
              "      <td>0</td>\n",
              "      <td>8</td>\n",
              "      <td>4</td>\n",
              "    </tr>\n",
              "    <tr>\n",
              "      <th>1</th>\n",
              "      <td>Lala</td>\n",
              "      <td>Myke Towers</td>\n",
              "      <td>1</td>\n",
              "      <td>133716286</td>\n",
              "      <td>92</td>\n",
              "      <td>C#</td>\n",
              "      <td>Major</td>\n",
              "      <td>71</td>\n",
              "      <td>61</td>\n",
              "      <td>74</td>\n",
              "      <td>7</td>\n",
              "      <td>0</td>\n",
              "      <td>10</td>\n",
              "      <td>4</td>\n",
              "    </tr>\n",
              "    <tr>\n",
              "      <th>2</th>\n",
              "      <td>Vampire</td>\n",
              "      <td>Olivia Rodrigo</td>\n",
              "      <td>1</td>\n",
              "      <td>140003974</td>\n",
              "      <td>138</td>\n",
              "      <td>F</td>\n",
              "      <td>Major</td>\n",
              "      <td>51</td>\n",
              "      <td>32</td>\n",
              "      <td>53</td>\n",
              "      <td>17</td>\n",
              "      <td>0</td>\n",
              "      <td>31</td>\n",
              "      <td>6</td>\n",
              "    </tr>\n",
              "    <tr>\n",
              "      <th>3</th>\n",
              "      <td>Cruel summer</td>\n",
              "      <td>Taylor Swift</td>\n",
              "      <td>1</td>\n",
              "      <td>800840817</td>\n",
              "      <td>170</td>\n",
              "      <td>A</td>\n",
              "      <td>Major</td>\n",
              "      <td>55</td>\n",
              "      <td>58</td>\n",
              "      <td>72</td>\n",
              "      <td>11</td>\n",
              "      <td>0</td>\n",
              "      <td>11</td>\n",
              "      <td>15</td>\n",
              "    </tr>\n",
              "    <tr>\n",
              "      <th>4</th>\n",
              "      <td>Where she goes</td>\n",
              "      <td>Bad Bunny</td>\n",
              "      <td>1</td>\n",
              "      <td>303236322</td>\n",
              "      <td>144</td>\n",
              "      <td>A</td>\n",
              "      <td>Minor</td>\n",
              "      <td>65</td>\n",
              "      <td>23</td>\n",
              "      <td>80</td>\n",
              "      <td>14</td>\n",
              "      <td>63</td>\n",
              "      <td>11</td>\n",
              "      <td>6</td>\n",
              "    </tr>\n",
              "  </tbody>\n",
              "</table>\n",
              "</div>"
            ],
            "text/plain": [
              "                            track_name    artist(s)_name  artist_count  \\\n",
              "0  Seven (feat. latto) (explicit ver.)  Latto, Jung Kook             2   \n",
              "1                                 Lala       Myke Towers             1   \n",
              "2                              Vampire    Olivia Rodrigo             1   \n",
              "3                         Cruel summer      Taylor Swift             1   \n",
              "4                       Where she goes         Bad Bunny             1   \n",
              "\n",
              "     streams  bpm key   mode  danceability  valence  energy  acousticness  \\\n",
              "0  141381703  125   B  Major            80       89      83            31   \n",
              "1  133716286   92  C#  Major            71       61      74             7   \n",
              "2  140003974  138   F  Major            51       32      53            17   \n",
              "3  800840817  170   A  Major            55       58      72            11   \n",
              "4  303236322  144   A  Minor            65       23      80            14   \n",
              "\n",
              "   instrumentalness  liveness  speechiness  \n",
              "0                 0         8            4  \n",
              "1                 0        10            4  \n",
              "2                 0        31            6  \n",
              "3                 0        11           15  \n",
              "4                63        11            6  "
            ]
          },
          "execution_count": 31,
          "metadata": {},
          "output_type": "execute_result"
        }
      ],
      "source": [
        "song_info.head()"
      ]
    },
    {
      "cell_type": "markdown",
      "id": "87ca87c4-79c8-4b2e-a7ca-8bf7d159c81a",
      "metadata": {
        "id": "87ca87c4-79c8-4b2e-a7ca-8bf7d159c81a"
      },
      "source": [
        "## 3 Исследовательский анализ"
      ]
    },
    {
      "cell_type": "markdown",
      "id": "1468dc69-71ee-4950-8e37-a2cb86be7afb",
      "metadata": {
        "id": "1468dc69-71ee-4950-8e37-a2cb86be7afb"
      },
      "source": [
        "### 3.1 Исследуем общее количество стримов по трекам"
      ]
    },
    {
      "cell_type": "code",
      "execution_count": null,
      "id": "216c09f0-cc6f-409d-8596-79f71c56114d",
      "metadata": {
        "id": "216c09f0-cc6f-409d-8596-79f71c56114d",
        "outputId": "046a6607-bd40-4f02-8ea5-6f2f5e574353"
      },
      "outputs": [
        {
          "data": {
            "image/png": "[encoded data removed]",
            "text/plain": [
              "<Figure size 1500x500 with 1 Axes>"
            ]
          },
          "metadata": {},
          "output_type": "display_data"
        }
      ],
      "source": [
        "sns.histplot(song_info['streams'].apply(lambda x: np.log(x+1)), bins=30, kde=True)\n",
        "plt.title('Логарифмическое распределение стримов')\n",
        "plt.ylabel('Количество треков')\n",
        "plt.xlabel('Log(x) стримов')\n",
        "plt.show()"
      ]
    },
    {
      "cell_type": "markdown",
      "id": "688eb4b2-70da-4130-8807-4715ee6b22f7",
      "metadata": {
        "id": "688eb4b2-70da-4130-8807-4715ee6b22f7"
      },
      "source": [
        "Для построения графика взяли логарифм от количество стримов для того, чтобы лучше понять, как выглядит распределение. У нас достаточно большая разница есть в значениях и взять квадратный корень не представляется возможным. По графику видим, что подавляющее большинство треков имеют Log(x)стримов в районе 15-20/23."
      ]
    },
    {
      "cell_type": "markdown",
      "id": "9399e383-f5e4-4d97-9ee3-5d4ee5fe1185",
      "metadata": {
        "id": "9399e383-f5e4-4d97-9ee3-5d4ee5fe1185"
      },
      "source": [
        "### 3.2 Найдем исполнителей с наибольшим количеством выпущенных треков"
      ]
    },
    {
      "cell_type": "markdown",
      "id": "f57f8bfd-0ddd-4432-bdff-4999e1a47910",
      "metadata": {
        "id": "f57f8bfd-0ddd-4432-bdff-4999e1a47910"
      },
      "source": [
        "В данных есть не только сольные композиции, но и групповые. Так что рассмотрим, используя это знание:"
      ]
    },
    {
      "cell_type": "code",
      "execution_count": null,
      "id": "7a22af46-69f6-4aee-baf3-d118038fd6e2",
      "metadata": {
        "id": "7a22af46-69f6-4aee-baf3-d118038fd6e2"
      },
      "outputs": [],
      "source": [
        "song_info['splitted'] = song_info['artist(s)_name'].apply(lambda x: x.split(r', ')) #Создаем столбец, в котором имена исполнителей четко разделены"
      ]
    },
    {
      "cell_type": "code",
      "execution_count": null,
      "id": "7a1efe29-5014-47e1-a4fd-36019b5586f5",
      "metadata": {
        "id": "7a1efe29-5014-47e1-a4fd-36019b5586f5",
        "outputId": "f43b6c19-defb-4048-cba2-9b0c5acd8bba"
      },
      "outputs": [
        {
          "data": {
            "text/html": [
              "<div>\n",
              "<style scoped>\n",
              "    .dataframe tbody tr th:only-of-type {\n",
              "        vertical-align: middle;\n",
              "    }\n",
              "\n",
              "    .dataframe tbody tr th {\n",
              "        vertical-align: top;\n",
              "    }\n",
              "\n",
              "    .dataframe thead th {\n",
              "        text-align: right;\n",
              "    }\n",
              "</style>\n",
              "<table border=\"1\" class=\"dataframe\">\n",
              "  <thead>\n",
              "    <tr style=\"text-align: right;\">\n",
              "      <th></th>\n",
              "      <th>track_name</th>\n",
              "      <th>artist(s)_name</th>\n",
              "      <th>artist_count</th>\n",
              "      <th>streams</th>\n",
              "      <th>bpm</th>\n",
              "      <th>key</th>\n",
              "      <th>mode</th>\n",
              "      <th>danceability</th>\n",
              "      <th>valence</th>\n",
              "      <th>energy</th>\n",
              "      <th>acousticness</th>\n",
              "      <th>instrumentalness</th>\n",
              "      <th>liveness</th>\n",
              "      <th>speechiness</th>\n",
              "      <th>splitted</th>\n",
              "    </tr>\n",
              "  </thead>\n",
              "  <tbody>\n",
              "    <tr>\n",
              "      <th>0</th>\n",
              "      <td>Seven (feat. latto) (explicit ver.)</td>\n",
              "      <td>Latto, Jung Kook</td>\n",
              "      <td>2</td>\n",
              "      <td>141381703</td>\n",
              "      <td>125</td>\n",
              "      <td>B</td>\n",
              "      <td>Major</td>\n",
              "      <td>80</td>\n",
              "      <td>89</td>\n",
              "      <td>83</td>\n",
              "      <td>31</td>\n",
              "      <td>0</td>\n",
              "      <td>8</td>\n",
              "      <td>4</td>\n",
              "      <td>[Latto, Jung Kook]</td>\n",
              "    </tr>\n",
              "    <tr>\n",
              "      <th>1</th>\n",
              "      <td>Lala</td>\n",
              "      <td>Myke Towers</td>\n",
              "      <td>1</td>\n",
              "      <td>133716286</td>\n",
              "      <td>92</td>\n",
              "      <td>C#</td>\n",
              "      <td>Major</td>\n",
              "      <td>71</td>\n",
              "      <td>61</td>\n",
              "      <td>74</td>\n",
              "      <td>7</td>\n",
              "      <td>0</td>\n",
              "      <td>10</td>\n",
              "      <td>4</td>\n",
              "      <td>[Myke Towers]</td>\n",
              "    </tr>\n",
              "    <tr>\n",
              "      <th>2</th>\n",
              "      <td>Vampire</td>\n",
              "      <td>Olivia Rodrigo</td>\n",
              "      <td>1</td>\n",
              "      <td>140003974</td>\n",
              "      <td>138</td>\n",
              "      <td>F</td>\n",
              "      <td>Major</td>\n",
              "      <td>51</td>\n",
              "      <td>32</td>\n",
              "      <td>53</td>\n",
              "      <td>17</td>\n",
              "      <td>0</td>\n",
              "      <td>31</td>\n",
              "      <td>6</td>\n",
              "      <td>[Olivia Rodrigo]</td>\n",
              "    </tr>\n",
              "    <tr>\n",
              "      <th>3</th>\n",
              "      <td>Cruel summer</td>\n",
              "      <td>Taylor Swift</td>\n",
              "      <td>1</td>\n",
              "      <td>800840817</td>\n",
              "      <td>170</td>\n",
              "      <td>A</td>\n",
              "      <td>Major</td>\n",
              "      <td>55</td>\n",
              "      <td>58</td>\n",
              "      <td>72</td>\n",
              "      <td>11</td>\n",
              "      <td>0</td>\n",
              "      <td>11</td>\n",
              "      <td>15</td>\n",
              "      <td>[Taylor Swift]</td>\n",
              "    </tr>\n",
              "    <tr>\n",
              "      <th>4</th>\n",
              "      <td>Where she goes</td>\n",
              "      <td>Bad Bunny</td>\n",
              "      <td>1</td>\n",
              "      <td>303236322</td>\n",
              "      <td>144</td>\n",
              "      <td>A</td>\n",
              "      <td>Minor</td>\n",
              "      <td>65</td>\n",
              "      <td>23</td>\n",
              "      <td>80</td>\n",
              "      <td>14</td>\n",
              "      <td>63</td>\n",
              "      <td>11</td>\n",
              "      <td>6</td>\n",
              "      <td>[Bad Bunny]</td>\n",
              "    </tr>\n",
              "  </tbody>\n",
              "</table>\n",
              "</div>"
            ],
            "text/plain": [
              "                            track_name    artist(s)_name  artist_count  \\\n",
              "0  Seven (feat. latto) (explicit ver.)  Latto, Jung Kook             2   \n",
              "1                                 Lala       Myke Towers             1   \n",
              "2                              Vampire    Olivia Rodrigo             1   \n",
              "3                         Cruel summer      Taylor Swift             1   \n",
              "4                       Where she goes         Bad Bunny             1   \n",
              "\n",
              "     streams  bpm key   mode  danceability  valence  energy  acousticness  \\\n",
              "0  141381703  125   B  Major            80       89      83            31   \n",
              "1  133716286   92  C#  Major            71       61      74             7   \n",
              "2  140003974  138   F  Major            51       32      53            17   \n",
              "3  800840817  170   A  Major            55       58      72            11   \n",
              "4  303236322  144   A  Minor            65       23      80            14   \n",
              "\n",
              "   instrumentalness  liveness  speechiness            splitted  \n",
              "0                 0         8            4  [Latto, Jung Kook]  \n",
              "1                 0        10            4       [Myke Towers]  \n",
              "2                 0        31            6    [Olivia Rodrigo]  \n",
              "3                 0        11           15      [Taylor Swift]  \n",
              "4                63        11            6         [Bad Bunny]  "
            ]
          },
          "execution_count": 34,
          "metadata": {},
          "output_type": "execute_result"
        }
      ],
      "source": [
        "song_info.head()"
      ]
    },
    {
      "cell_type": "code",
      "execution_count": null,
      "id": "b0228ed8-c0a9-40e1-bb00-8c3b4474c3e5",
      "metadata": {
        "id": "b0228ed8-c0a9-40e1-bb00-8c3b4474c3e5"
      },
      "outputs": [],
      "source": [
        "names= {} #Создаем пустой словарь, который будет служить счетчиком"
      ]
    },
    {
      "cell_type": "code",
      "execution_count": null,
      "id": "8c4f33fb-5536-413e-acf3-3a81ffde7843",
      "metadata": {
        "id": "8c4f33fb-5536-413e-acf3-3a81ffde7843"
      },
      "outputs": [],
      "source": [
        "def uniqueness(row): #Данная функция проверяет, есть ли исполнитель в словаре. Если он есть, то увеличивает счетчик, если нет, то создает новый.\n",
        "    for i in row:\n",
        "        if i in names:\n",
        "            names[i] +=1\n",
        "        else:\n",
        "            names[i] = 1\n",
        "    return"
      ]
    },
    {
      "cell_type": "code",
      "execution_count": null,
      "id": "c47f9c5a-b0b5-4f92-9e16-71df295becd2",
      "metadata": {
        "id": "c47f9c5a-b0b5-4f92-9e16-71df295becd2",
        "outputId": "bf5295a7-8e1e-459c-b40d-0a01ff509efe"
      },
      "outputs": [
        {
          "data": {
            "text/plain": [
              "0      None\n",
              "1      None\n",
              "2      None\n",
              "3      None\n",
              "4      None\n",
              "       ... \n",
              "948    None\n",
              "949    None\n",
              "950    None\n",
              "951    None\n",
              "952    None\n",
              "Name: splitted, Length: 953, dtype: object"
            ]
          },
          "execution_count": 37,
          "metadata": {},
          "output_type": "execute_result"
        }
      ],
      "source": [
        "song_info['splitted'].apply(uniqueness) #Используем созданную функцию в действии"
      ]
    },
    {
      "cell_type": "code",
      "execution_count": null,
      "id": "85a674d6-3f0d-42f3-8f02-0c239fce9e99",
      "metadata": {
        "id": "85a674d6-3f0d-42f3-8f02-0c239fce9e99",
        "outputId": "bdd9d266-d894-441c-cce3-7710bba59a8e"
      },
      "outputs": [
        {
          "data": {
            "text/html": [
              "<div>\n",
              "<style scoped>\n",
              "    .dataframe tbody tr th:only-of-type {\n",
              "        vertical-align: middle;\n",
              "    }\n",
              "\n",
              "    .dataframe tbody tr th {\n",
              "        vertical-align: top;\n",
              "    }\n",
              "\n",
              "    .dataframe thead th {\n",
              "        text-align: right;\n",
              "    }\n",
              "</style>\n",
              "<table border=\"1\" class=\"dataframe\">\n",
              "  <thead>\n",
              "    <tr style=\"text-align: right;\">\n",
              "      <th></th>\n",
              "      <th>author</th>\n",
              "      <th>count</th>\n",
              "    </tr>\n",
              "  </thead>\n",
              "  <tbody>\n",
              "    <tr>\n",
              "      <th>5</th>\n",
              "      <td>Bad Bunny</td>\n",
              "      <td>40</td>\n",
              "    </tr>\n",
              "    <tr>\n",
              "      <th>4</th>\n",
              "      <td>Taylor Swift</td>\n",
              "      <td>38</td>\n",
              "    </tr>\n",
              "    <tr>\n",
              "      <th>28</th>\n",
              "      <td>The Weeknd</td>\n",
              "      <td>37</td>\n",
              "    </tr>\n",
              "    <tr>\n",
              "      <th>18</th>\n",
              "      <td>SZA</td>\n",
              "      <td>23</td>\n",
              "    </tr>\n",
              "    <tr>\n",
              "      <th>116</th>\n",
              "      <td>Kendrick Lamar</td>\n",
              "      <td>23</td>\n",
              "    </tr>\n",
              "    <tr>\n",
              "      <th>...</th>\n",
              "      <td>...</td>\n",
              "      <td>...</td>\n",
              "    </tr>\n",
              "    <tr>\n",
              "      <th>339</th>\n",
              "      <td>Shilpa Rao</td>\n",
              "      <td>1</td>\n",
              "    </tr>\n",
              "    <tr>\n",
              "      <th>338</th>\n",
              "      <td>Conan Gray</td>\n",
              "      <td>1</td>\n",
              "    </tr>\n",
              "    <tr>\n",
              "      <th>337</th>\n",
              "      <td>La Joaqui</td>\n",
              "      <td>1</td>\n",
              "    </tr>\n",
              "    <tr>\n",
              "      <th>336</th>\n",
              "      <td>Steve Aoki</td>\n",
              "      <td>1</td>\n",
              "    </tr>\n",
              "    <tr>\n",
              "      <th>698</th>\n",
              "      <td>Selena Gomez</td>\n",
              "      <td>1</td>\n",
              "    </tr>\n",
              "  </tbody>\n",
              "</table>\n",
              "<p>699 rows × 2 columns</p>\n",
              "</div>"
            ],
            "text/plain": [
              "             author  count\n",
              "5         Bad Bunny     40\n",
              "4      Taylor Swift     38\n",
              "28       The Weeknd     37\n",
              "18              SZA     23\n",
              "116  Kendrick Lamar     23\n",
              "..              ...    ...\n",
              "339      Shilpa Rao      1\n",
              "338      Conan Gray      1\n",
              "337       La Joaqui      1\n",
              "336      Steve Aoki      1\n",
              "698    Selena Gomez      1\n",
              "\n",
              "[699 rows x 2 columns]"
            ]
          },
          "execution_count": 38,
          "metadata": {},
          "output_type": "execute_result"
        }
      ],
      "source": [
        "authors = pd.DataFrame(data=list(names.items()), columns=['author', 'count']).sort_values(by='count', ascending=False)\n",
        "authors #Создаем DataFrame из получившегося словаря и проверяем его"
      ]
    },
    {
      "cell_type": "code",
      "execution_count": null,
      "id": "a80e9e07-36af-4ecb-9893-5c344c868d8d",
      "metadata": {
        "id": "a80e9e07-36af-4ecb-9893-5c344c868d8d",
        "outputId": "ccf379a5-e9e2-4bc8-ac57-b579f2fa40c3"
      },
      "outputs": [
        {
          "data": {
            "image/png": "[encoded data removed]",
            "text/plain": [
              "<Figure size 1500x500 with 1 Axes>"
            ]
          },
          "metadata": {},
          "output_type": "display_data"
        }
      ],
      "source": [
        "sns.barplot(x=authors.head(10)['author'].values, y=authors.head(10)['count'].values)\n",
        "plt.title('Общее количество треков(включая feat.) исполнителей')\n",
        "plt.xlabel('Исполнители')\n",
        "plt.ylabel('Количество')\n",
        "plt.show()"
      ]
    },
    {
      "cell_type": "markdown",
      "id": "c6070b0c-e841-46e7-a043-b348cf6ee2b0",
      "metadata": {
        "id": "c6070b0c-e841-46e7-a043-b348cf6ee2b0"
      },
      "source": [
        "Получили график, в котором отобразили топ-10 исполнителей по количеству работ, в которых они учавствовали. Для сравнения построим такой же, но с количеством сольных треков."
      ]
    },
    {
      "cell_type": "code",
      "execution_count": null,
      "id": "02b23ef4-2a07-4161-98e8-0c83e60b0834",
      "metadata": {
        "id": "02b23ef4-2a07-4161-98e8-0c83e60b0834"
      },
      "outputs": [],
      "source": [
        "top_10 = song_info['artist(s)_name'].value_counts().head(10)"
      ]
    },
    {
      "cell_type": "code",
      "execution_count": null,
      "id": "cacf948f-c957-4c4d-9562-5c11427eb685",
      "metadata": {
        "id": "cacf948f-c957-4c4d-9562-5c11427eb685",
        "outputId": "26a25dea-0b95-4373-ff13-2f4fff88a352"
      },
      "outputs": [
        {
          "data": {
            "image/png": "[encoded data removed]",
            "text/plain": [
              "<Figure size 1500x500 with 1 Axes>"
            ]
          },
          "metadata": {},
          "output_type": "display_data"
        }
      ],
      "source": [
        "sns.barplot(y=top_10.values, x=top_10.index)\n",
        "plt.title('Количество сольных треков исполнителей')\n",
        "plt.xlabel('Исполнители')\n",
        "plt.ylabel('Количество')\n",
        "plt.show()"
      ]
    },
    {
      "cell_type": "markdown",
      "id": "b4d03460-7766-4bbe-b899-81db54af2e73",
      "metadata": {
        "id": "b4d03460-7766-4bbe-b899-81db54af2e73"
      },
      "source": [
        "Как мы видим, все не так однозначно. Тэйлор Свифт является безоговорочным лидером по количеству сольных работ, но вот Bad Bunny засветились в большем количестве треков в общем. Также можно увидеть, что некоторые исполнители, например, Дрейк, не выпускают сольные треки, а только учавствуют в колоборациях."
      ]
    },
    {
      "cell_type": "markdown",
      "id": "0666aa68-4085-4db0-b470-5602e2ef4876",
      "metadata": {
        "id": "0666aa68-4085-4db0-b470-5602e2ef4876"
      },
      "source": [
        "### 3.3 Найдем самых популярных исполнителей"
      ]
    },
    {
      "cell_type": "markdown",
      "id": "7ee36b49-dbd2-48dd-9bd6-66ff18fd3904",
      "metadata": {
        "id": "7ee36b49-dbd2-48dd-9bd6-66ff18fd3904"
      },
      "source": [
        "Как критерий популярности будем использовать общее количество стримов"
      ]
    },
    {
      "cell_type": "code",
      "execution_count": null,
      "id": "8a15b2c6-7d52-4c56-aa19-0d21da253316",
      "metadata": {
        "id": "8a15b2c6-7d52-4c56-aa19-0d21da253316"
      },
      "outputs": [],
      "source": [
        "top_10_streams = song_info.groupby('artist(s)_name')['streams'].sum().sort_values(ascending=False).head(10)"
      ]
    },
    {
      "cell_type": "code",
      "execution_count": null,
      "id": "ebd99587-4c5f-4e2b-9a0f-34ccfb306c73",
      "metadata": {
        "id": "ebd99587-4c5f-4e2b-9a0f-34ccfb306c73",
        "outputId": "d99bd44f-7c39-47f8-cde1-b94b8047e935"
      },
      "outputs": [
        {
          "data": {
            "image/png": "[encoded data removed]",
            "text/plain": [
              "<Figure size 1500x500 with 1 Axes>"
            ]
          },
          "metadata": {},
          "output_type": "display_data"
        }
      ],
      "source": [
        "sns.barplot(x=top_10_streams.index, y=top_10_streams.values)\n",
        "plt.title('Количество стримов по исполнителям')\n",
        "plt.xlabel('Исполнители')\n",
        "plt.ylabel('Количество')\n",
        "plt.show()"
      ]
    },
    {
      "cell_type": "markdown",
      "id": "a9a0f7db-6e14-4f6e-ad8a-9446994303a9",
      "metadata": {
        "id": "a9a0f7db-6e14-4f6e-ad8a-9446994303a9"
      },
      "source": [
        "Нашли самых популярных исполнителей, но это еще не все. Сравним теперь значения из прошлого пункта, чтобы найти одновременно самых популярных и самых производительных исполнителей:"
      ]
    },
    {
      "cell_type": "code",
      "execution_count": null,
      "id": "23cb31c3-d324-43a6-9949-eb698363d478",
      "metadata": {
        "id": "23cb31c3-d324-43a6-9949-eb698363d478",
        "outputId": "2b0f8827-8cb6-4a10-9437-4140516ad953"
      },
      "outputs": [
        {
          "data": {
            "text/plain": [
              "Index(['The Weeknd', 'Taylor Swift', 'Ed Sheeran', 'Harry Styles',\n",
              "       'Bad Bunny'],\n",
              "      dtype='object', name='artist(s)_name')"
            ]
          },
          "execution_count": 44,
          "metadata": {},
          "output_type": "execute_result"
        }
      ],
      "source": [
        "top_10_streams[top_10_streams.index.isin(top_10.index)].index"
      ]
    },
    {
      "cell_type": "markdown",
      "id": "36f3e140-ee71-443c-bf13-f0b816d933c8",
      "metadata": {
        "id": "36f3e140-ee71-443c-bf13-f0b816d933c8"
      },
      "source": [
        "Это буквально самые популярные исполнители. У них больше всего треков и больше всего стримов."
      ]
    },
    {
      "cell_type": "markdown",
      "id": "65403998-ff9d-4f1e-9191-633ec52ac858",
      "metadata": {
        "id": "65403998-ff9d-4f1e-9191-633ec52ac858"
      },
      "source": [
        "### 3.4 Посмотрим на корреляции между различными аспектами музыки и популярностью трека"
      ]
    },
    {
      "cell_type": "markdown",
      "id": "6f5dd064-fbf7-46be-9e1b-7975276168a1",
      "metadata": {
        "id": "6f5dd064-fbf7-46be-9e1b-7975276168a1"
      },
      "source": [
        "В таблице приведены различные параметры, такие как \"Насколько под трек можно танцевать\", или \"Насколько он энергичен\". Попробуем найти хоть какие-нибудь зависимости этих показателей и популярности."
      ]
    },
    {
      "cell_type": "code",
      "execution_count": null,
      "id": "5d8353b2-4a86-4508-a254-21759402262e",
      "metadata": {
        "id": "5d8353b2-4a86-4508-a254-21759402262e",
        "outputId": "94e8d459-5bf2-4682-ef98-397af66b0996"
      },
      "outputs": [
        {
          "data": {
            "text/html": [
              "<div>\n",
              "<style scoped>\n",
              "    .dataframe tbody tr th:only-of-type {\n",
              "        vertical-align: middle;\n",
              "    }\n",
              "\n",
              "    .dataframe tbody tr th {\n",
              "        vertical-align: top;\n",
              "    }\n",
              "\n",
              "    .dataframe thead th {\n",
              "        text-align: right;\n",
              "    }\n",
              "</style>\n",
              "<table border=\"1\" class=\"dataframe\">\n",
              "  <thead>\n",
              "    <tr style=\"text-align: right;\">\n",
              "      <th></th>\n",
              "      <th>streams</th>\n",
              "      <th>bpm</th>\n",
              "      <th>danceability</th>\n",
              "      <th>valence</th>\n",
              "      <th>energy</th>\n",
              "      <th>acousticness</th>\n",
              "      <th>instrumentalness</th>\n",
              "      <th>liveness</th>\n",
              "      <th>speechiness</th>\n",
              "    </tr>\n",
              "  </thead>\n",
              "  <tbody>\n",
              "    <tr>\n",
              "      <th>streams</th>\n",
              "      <td>1.000000</td>\n",
              "      <td>-0.002011</td>\n",
              "      <td>-0.104451</td>\n",
              "      <td>-0.041749</td>\n",
              "      <td>-0.026311</td>\n",
              "      <td>-0.003746</td>\n",
              "      <td>-0.044703</td>\n",
              "      <td>-0.048232</td>\n",
              "      <td>-0.111568</td>\n",
              "    </tr>\n",
              "    <tr>\n",
              "      <th>bpm</th>\n",
              "      <td>-0.002011</td>\n",
              "      <td>1.000000</td>\n",
              "      <td>-0.147095</td>\n",
              "      <td>0.041195</td>\n",
              "      <td>0.025794</td>\n",
              "      <td>-0.017694</td>\n",
              "      <td>-0.001195</td>\n",
              "      <td>-0.000761</td>\n",
              "      <td>0.039260</td>\n",
              "    </tr>\n",
              "    <tr>\n",
              "      <th>danceability</th>\n",
              "      <td>-0.104451</td>\n",
              "      <td>-0.147095</td>\n",
              "      <td>1.000000</td>\n",
              "      <td>0.408451</td>\n",
              "      <td>0.198095</td>\n",
              "      <td>-0.236165</td>\n",
              "      <td>-0.089138</td>\n",
              "      <td>-0.077538</td>\n",
              "      <td>0.184977</td>\n",
              "    </tr>\n",
              "    <tr>\n",
              "      <th>valence</th>\n",
              "      <td>-0.041749</td>\n",
              "      <td>0.041195</td>\n",
              "      <td>0.408451</td>\n",
              "      <td>1.000000</td>\n",
              "      <td>0.357612</td>\n",
              "      <td>-0.081907</td>\n",
              "      <td>-0.132890</td>\n",
              "      <td>0.021278</td>\n",
              "      <td>0.041081</td>\n",
              "    </tr>\n",
              "    <tr>\n",
              "      <th>energy</th>\n",
              "      <td>-0.026311</td>\n",
              "      <td>0.025794</td>\n",
              "      <td>0.198095</td>\n",
              "      <td>0.357612</td>\n",
              "      <td>1.000000</td>\n",
              "      <td>-0.577344</td>\n",
              "      <td>-0.038547</td>\n",
              "      <td>0.117302</td>\n",
              "      <td>-0.004846</td>\n",
              "    </tr>\n",
              "    <tr>\n",
              "      <th>acousticness</th>\n",
              "      <td>-0.003746</td>\n",
              "      <td>-0.017694</td>\n",
              "      <td>-0.236165</td>\n",
              "      <td>-0.081907</td>\n",
              "      <td>-0.577344</td>\n",
              "      <td>1.000000</td>\n",
              "      <td>0.042796</td>\n",
              "      <td>-0.050142</td>\n",
              "      <td>-0.022501</td>\n",
              "    </tr>\n",
              "    <tr>\n",
              "      <th>instrumentalness</th>\n",
              "      <td>-0.044703</td>\n",
              "      <td>-0.001195</td>\n",
              "      <td>-0.089138</td>\n",
              "      <td>-0.132890</td>\n",
              "      <td>-0.038547</td>\n",
              "      <td>0.042796</td>\n",
              "      <td>1.000000</td>\n",
              "      <td>-0.045967</td>\n",
              "      <td>-0.083396</td>\n",
              "    </tr>\n",
              "    <tr>\n",
              "      <th>liveness</th>\n",
              "      <td>-0.048232</td>\n",
              "      <td>-0.000761</td>\n",
              "      <td>-0.077538</td>\n",
              "      <td>0.021278</td>\n",
              "      <td>0.117302</td>\n",
              "      <td>-0.050142</td>\n",
              "      <td>-0.045967</td>\n",
              "      <td>1.000000</td>\n",
              "      <td>-0.022525</td>\n",
              "    </tr>\n",
              "    <tr>\n",
              "      <th>speechiness</th>\n",
              "      <td>-0.111568</td>\n",
              "      <td>0.039260</td>\n",
              "      <td>0.184977</td>\n",
              "      <td>0.041081</td>\n",
              "      <td>-0.004846</td>\n",
              "      <td>-0.022501</td>\n",
              "      <td>-0.083396</td>\n",
              "      <td>-0.022525</td>\n",
              "      <td>1.000000</td>\n",
              "    </tr>\n",
              "  </tbody>\n",
              "</table>\n",
              "</div>"
            ],
            "text/plain": [
              "                   streams       bpm  danceability   valence    energy  \\\n",
              "streams           1.000000 -0.002011     -0.104451 -0.041749 -0.026311   \n",
              "bpm              -0.002011  1.000000     -0.147095  0.041195  0.025794   \n",
              "danceability     -0.104451 -0.147095      1.000000  0.408451  0.198095   \n",
              "valence          -0.041749  0.041195      0.408451  1.000000  0.357612   \n",
              "energy           -0.026311  0.025794      0.198095  0.357612  1.000000   \n",
              "acousticness     -0.003746 -0.017694     -0.236165 -0.081907 -0.577344   \n",
              "instrumentalness -0.044703 -0.001195     -0.089138 -0.132890 -0.038547   \n",
              "liveness         -0.048232 -0.000761     -0.077538  0.021278  0.117302   \n",
              "speechiness      -0.111568  0.039260      0.184977  0.041081 -0.004846   \n",
              "\n",
              "                  acousticness  instrumentalness  liveness  speechiness  \n",
              "streams              -0.003746         -0.044703 -0.048232    -0.111568  \n",
              "bpm                  -0.017694         -0.001195 -0.000761     0.039260  \n",
              "danceability         -0.236165         -0.089138 -0.077538     0.184977  \n",
              "valence              -0.081907         -0.132890  0.021278     0.041081  \n",
              "energy               -0.577344         -0.038547  0.117302    -0.004846  \n",
              "acousticness          1.000000          0.042796 -0.050142    -0.022501  \n",
              "instrumentalness      0.042796          1.000000 -0.045967    -0.083396  \n",
              "liveness             -0.050142         -0.045967  1.000000    -0.022525  \n",
              "speechiness          -0.022501         -0.083396 -0.022525     1.000000  "
            ]
          },
          "execution_count": 45,
          "metadata": {},
          "output_type": "execute_result"
        }
      ],
      "source": [
        "song_info[['streams', 'bpm', 'danceability', 'valence', 'energy', 'acousticness', 'instrumentalness', 'liveness', 'speechiness']].corr()"
      ]
    },
    {
      "cell_type": "markdown",
      "id": "b02dfc19-ee67-4e21-aa34-7839e2f93656",
      "metadata": {
        "id": "b02dfc19-ee67-4e21-aa34-7839e2f93656"
      },
      "source": [
        "На глаз не видно ни одного значения, сильно близкого к 1 или -1(Такие цифры бы показали сильную корреляцию между аспектами). Покажем более наглядно:"
      ]
    },
    {
      "cell_type": "code",
      "execution_count": null,
      "id": "7cd58393-6fc2-4bc2-83b9-793eb4d2f85c",
      "metadata": {
        "id": "7cd58393-6fc2-4bc2-83b9-793eb4d2f85c",
        "outputId": "8a5b952b-a894-45cc-fa29-90f864fdf0a4"
      },
      "outputs": [
        {
          "data": {
            "image/png": "[encoded data removed]",
            "text/plain": [
              "<Figure size 1500x500 with 2 Axes>"
            ]
          },
          "metadata": {},
          "output_type": "display_data"
        }
      ],
      "source": [
        "sns.heatmap(song_info[['streams', 'danceability', 'valence', 'energy', 'acousticness', 'instrumentalness', 'liveness', 'speechiness']].corr())\n",
        "plt.title('Зависимость между параметрами музыки и количество стримов')\n",
        "plt.show()"
      ]
    },
    {
      "cell_type": "markdown",
      "id": "ee7e53c1-a54c-46cc-93c7-aae3a44b750f",
      "metadata": {
        "id": "ee7e53c1-a54c-46cc-93c7-aae3a44b750f"
      },
      "source": [
        "Везде почти отрицательная зависимость. Причем нет сильного влечения ни к 1, ни к -1. Получается, что нет определенного фактора успеха трека."
      ]
    },
    {
      "cell_type": "markdown",
      "id": "34ac4bb6-bcc8-47f9-9ee8-e01244a37e12",
      "metadata": {
        "id": "34ac4bb6-bcc8-47f9-9ee8-e01244a37e12"
      },
      "source": [
        "### 3.5 Оценим тенденцию пользования стриминговыми сервисами"
      ]
    },
    {
      "cell_type": "markdown",
      "id": "822725fb-ff9b-4815-9b8f-8a01c327b026",
      "metadata": {
        "id": "822725fb-ff9b-4815-9b8f-8a01c327b026"
      },
      "source": [
        "Самый простой способ - поситать количество стримов по годам:"
      ]
    },
    {
      "cell_type": "code",
      "execution_count": null,
      "id": "117efeae-9041-48ac-86ad-e6d578a3f012",
      "metadata": {
        "id": "117efeae-9041-48ac-86ad-e6d578a3f012",
        "outputId": "f130477f-177f-49b1-e9b3-5dce9200c01d"
      },
      "outputs": [
        {
          "data": {
            "image/png": "[encoded data removed]",
            "text/plain": [
              "<Figure size 1500x500 with 1 Axes>"
            ]
          },
          "metadata": {},
          "output_type": "display_data"
        }
      ],
      "source": [
        "sns.barplot(x=df.groupby('released_year').streams.count().index, y=df.groupby('released_year').streams.count().values)\n",
        "plt.title('Количество выпущенных треков по годам')\n",
        "plt.xlabel('Года')\n",
        "plt.ylabel('Количество')\n",
        "plt.xticks(rotation=50)\n",
        "plt.show()"
      ]
    },
    {
      "cell_type": "markdown",
      "id": "d2011602-51d7-4ca2-bfce-355f46c86c3b",
      "metadata": {
        "id": "d2011602-51d7-4ca2-bfce-355f46c86c3b"
      },
      "source": [
        "Видим, что тенденция сильно выросла после Ковида. Данные на 2023 год не полные. У нас максимальная дата - это 14 июля(Чуть больше полугода), так что мы не можем точно судить об этом периоде. В целом люди все больше и больше начинают пользоваться сервисами, и скорость роста в последнее время зашкаливает."
      ]
    },
    {
      "cell_type": "markdown",
      "id": "4303cf6b-0a1f-4ced-a7c3-abc4fe72ea27",
      "metadata": {
        "id": "4303cf6b-0a1f-4ced-a7c3-abc4fe72ea27"
      },
      "source": [
        "### 3.6 Сравнение популярности стриминговых сервисов"
      ]
    },
    {
      "cell_type": "markdown",
      "id": "bb010b85-c96f-4c6a-a7f4-441c70ef202a",
      "metadata": {
        "id": "bb010b85-c96f-4c6a-a7f4-441c70ef202a"
      },
      "source": [
        "Здесь мы будем использовать немного неоднозначную метрику - количество треков в плейлистах и чартах. Это не даст нам в полной мере понять разницу в популярности стриминговых сервисов, но сможет показать, какие разделы в каких сервисах больше интересуют пользователей."
      ]
    },
    {
      "cell_type": "code",
      "execution_count": null,
      "id": "fe41af2e-a379-4a32-8464-c37361c24228",
      "metadata": {
        "id": "fe41af2e-a379-4a32-8464-c37361c24228"
      },
      "outputs": [],
      "source": [
        "playlists = df[['in_spotify_playlists', 'in_apple_playlists', 'in_deezer_playlists']].sum().sort_values(ascending=False)"
      ]
    },
    {
      "cell_type": "code",
      "execution_count": null,
      "id": "56733302-3ac0-410a-b98b-59f12964bd12",
      "metadata": {
        "id": "56733302-3ac0-410a-b98b-59f12964bd12",
        "outputId": "04425483-2366-4efb-aab8-a7cbd2f92cae"
      },
      "outputs": [
        {
          "data": {
            "image/png": "[encoded data removed]",
            "text/plain": [
              "<Figure size 1500x500 with 1 Axes>"
            ]
          },
          "metadata": {},
          "output_type": "display_data"
        }
      ],
      "source": [
        "sns.barplot(y=playlists.values, x=playlists.index)\n",
        "plt.xticks(np.arange(3), ['spotify', 'deezer', 'apple'])\n",
        "plt.title('Сравнение стриминговых сервисов по плейлистам')\n",
        "plt.xlabel('Сервисы')\n",
        "plt.ylabel('Количество')\n",
        "plt.show()"
      ]
    },
    {
      "cell_type": "code",
      "execution_count": null,
      "id": "8b9eb002-1fa5-4712-9f99-f5e6b89519c3",
      "metadata": {
        "id": "8b9eb002-1fa5-4712-9f99-f5e6b89519c3"
      },
      "outputs": [],
      "source": [
        "charts = df[['in_spotify_charts', 'in_apple_charts', 'in_deezer_charts', 'in_shazam_charts']].sum().sort_values(ascending=False)"
      ]
    },
    {
      "cell_type": "code",
      "execution_count": null,
      "id": "f764fd20-cf63-4ad8-8c67-103ef7663cd0",
      "metadata": {
        "id": "f764fd20-cf63-4ad8-8c67-103ef7663cd0",
        "outputId": "944d88a7-1c62-47de-c97d-f278e7891e9f"
      },
      "outputs": [
        {
          "data": {
            "image/png": "[encoded data removed]",
            "text/plain": [
              "<Figure size 1500x500 with 1 Axes>"
            ]
          },
          "metadata": {},
          "output_type": "display_data"
        }
      ],
      "source": [
        "sns.barplot(y=charts.values, x=charts.index)\n",
        "plt.title('Сравнение стриминговых сервисов по появлению треков в чартах')\n",
        "plt.xticks(np.arange(4), ['shazam', 'apple_music', 'spotify', 'deezer'])\n",
        "plt.xlabel('Чарты')\n",
        "plt.ylabel('Количество')\n",
        "plt.show()"
      ]
    },
    {
      "cell_type": "markdown",
      "id": "61246dc6-4c83-4db4-a502-81ad5cef3140",
      "metadata": {
        "id": "61246dc6-4c83-4db4-a502-81ad5cef3140"
      },
      "source": [
        "Как мы видим из двух графиков, подавляющее большинство треков находится в плейлистах именно на spotify, когда в чартах на shazam или apple_music. Эти три стриминговых сервиса и представляют наибольшую долю на рынке."
      ]
    },
    {
      "cell_type": "markdown",
      "id": "9865ab97-a3fa-4c50-8b1c-6890ef7819f4",
      "metadata": {
        "id": "9865ab97-a3fa-4c50-8b1c-6890ef7819f4"
      },
      "source": [
        "## 4 Вывод"
      ]
    },
    {
      "cell_type": "markdown",
      "id": "8ee872b0-c2e6-4525-89d2-9e330e04984a",
      "metadata": {
        "id": "8ee872b0-c2e6-4525-89d2-9e330e04984a"
      },
      "source": [
        "- 1 Взяли DataFrame из открытого источника, проанализировали его на пригодность и репрезентативность, выгрузили из csv файла\n",
        "- 2 Провели предобработку данных DataFrame:\n",
        "  - 2.1 Убрали пропуски там, где это было бы критично.\n",
        "  - 2.2 Изменили типы данных со str на float или int.\n",
        "  - 2.3 Создали отдельный DataFrame, состоящий только из важной информации о конкретной композиции.\n",
        "- 3 Провели исследовательский анализ данных:\n",
        "  - 3.1 Рассмотрели общую статистику по количествам стримов. Подавляющее большинство находится в районе, где Log(x)стримов = 15, 23\n",
        "  - 3.2 Нашли исполнителей с самым большим количеством треков(сольных и в общем). В тройку лидеров вошли - Тэйлор Свифт, Bad Bunny, The Weeknd\n",
        "  - 3.3 Нашли самых популярных исполнителей. Проверили их с прошлым пунктом. В итоге самыми \"Успешными\" исполнителями оказались - The Weeknd, Taylor Swift, Ed Sheeran, Harry Styles, Bad Bunny. С ними выгодно продолжать сотрудничество.\n",
        "  - 3.4 Оценили корелляцию между разными аспектами музыки и количеством стримов. По итогу оказалось, что нет четкой зависимости, и любые треки могут оказаться популярными.\n",
        "  - 3.5 Выявили тенденцию к серьезному увеличению количества использований стриминговых сервисов в последнее время. Разница между 2021 годом и 2022 очень большая.\n",
        "  - 3.6 Под конец выявили, в каких сервисах пользуются плейлистами(В данном контексте непревзойденный лидер - Spotify), а в каких препочитают чарты(Первое место практически \"поделили\" Apple Music и Shazam)\n",
        "- 4 Выводы исследования:\n",
        "  - 4.1 Смотря за тенденцией, создание или поддержка стримингового сервиса становистя все более актуальной. На данный момент не так много больших конкурентов на рынке, то есть площадка еще свежая.\n",
        "  - 4.2 Что касается исполнителей, то заметно, что лишь на самом верху количество треков = популярность. Где известность автора сподвигает больше работать, что приносит больше известности. Но для остальных это не так.\n",
        "  - 4.3 У пользователей нет предпочтений, или bias к какому-то определенному типу треков."
      ]
    },
    {
      "cell_type": "markdown",
      "id": "0a59ea36-f6d6-4a18-be3c-dcbe11bc2d6b",
      "metadata": {
        "id": "0a59ea36-f6d6-4a18-be3c-dcbe11bc2d6b"
      },
      "source": [
        "## 5 P.S. от автора"
      ]
    },
    {
      "cell_type": "markdown",
      "id": "50cef0e2-ae98-4ef7-b062-5415e7b47819",
      "metadata": {
        "id": "50cef0e2-ae98-4ef7-b062-5415e7b47819"
      },
      "source": [
        "Возьмем самые популярные треки из выборки. Сколько из них Вы знаете?"
      ]
    },
    {
      "cell_type": "code",
      "execution_count": null,
      "id": "5ae6571e-9672-49f9-b026-3170d4813a0f",
      "metadata": {
        "id": "5ae6571e-9672-49f9-b026-3170d4813a0f",
        "outputId": "fbb1e4be-9635-4cd3-c39a-0aa1a76a7130"
      },
      "outputs": [
        {
          "data": {
            "text/html": [
              "<div>\n",
              "<style scoped>\n",
              "    .dataframe tbody tr th:only-of-type {\n",
              "        vertical-align: middle;\n",
              "    }\n",
              "\n",
              "    .dataframe tbody tr th {\n",
              "        vertical-align: top;\n",
              "    }\n",
              "\n",
              "    .dataframe thead th {\n",
              "        text-align: right;\n",
              "    }\n",
              "</style>\n",
              "<table border=\"1\" class=\"dataframe\">\n",
              "  <thead>\n",
              "    <tr style=\"text-align: right;\">\n",
              "      <th></th>\n",
              "      <th>track_name</th>\n",
              "      <th>artist(s)_name</th>\n",
              "      <th>artist_count</th>\n",
              "      <th>streams</th>\n",
              "      <th>bpm</th>\n",
              "      <th>key</th>\n",
              "      <th>mode</th>\n",
              "      <th>danceability</th>\n",
              "      <th>valence</th>\n",
              "      <th>energy</th>\n",
              "      <th>acousticness</th>\n",
              "      <th>instrumentalness</th>\n",
              "      <th>liveness</th>\n",
              "      <th>speechiness</th>\n",
              "      <th>splitted</th>\n",
              "    </tr>\n",
              "  </thead>\n",
              "  <tbody>\n",
              "    <tr>\n",
              "      <th>55</th>\n",
              "      <td>Blinding lights</td>\n",
              "      <td>The Weeknd</td>\n",
              "      <td>1</td>\n",
              "      <td>3703895074</td>\n",
              "      <td>171</td>\n",
              "      <td>C#</td>\n",
              "      <td>Major</td>\n",
              "      <td>50</td>\n",
              "      <td>38</td>\n",
              "      <td>80</td>\n",
              "      <td>0</td>\n",
              "      <td>0</td>\n",
              "      <td>9</td>\n",
              "      <td>7</td>\n",
              "      <td>[The Weeknd]</td>\n",
              "    </tr>\n",
              "    <tr>\n",
              "      <th>179</th>\n",
              "      <td>Shape of you</td>\n",
              "      <td>Ed Sheeran</td>\n",
              "      <td>1</td>\n",
              "      <td>3562543890</td>\n",
              "      <td>96</td>\n",
              "      <td>C#</td>\n",
              "      <td>Minor</td>\n",
              "      <td>83</td>\n",
              "      <td>93</td>\n",
              "      <td>65</td>\n",
              "      <td>58</td>\n",
              "      <td>0</td>\n",
              "      <td>9</td>\n",
              "      <td>8</td>\n",
              "      <td>[Ed Sheeran]</td>\n",
              "    </tr>\n",
              "    <tr>\n",
              "      <th>86</th>\n",
              "      <td>Someone you loved</td>\n",
              "      <td>Lewis Capaldi</td>\n",
              "      <td>1</td>\n",
              "      <td>2887241814</td>\n",
              "      <td>110</td>\n",
              "      <td>C#</td>\n",
              "      <td>Major</td>\n",
              "      <td>50</td>\n",
              "      <td>45</td>\n",
              "      <td>41</td>\n",
              "      <td>75</td>\n",
              "      <td>0</td>\n",
              "      <td>11</td>\n",
              "      <td>3</td>\n",
              "      <td>[Lewis Capaldi]</td>\n",
              "    </tr>\n",
              "    <tr>\n",
              "      <th>620</th>\n",
              "      <td>Dance monkey</td>\n",
              "      <td>Tones and I</td>\n",
              "      <td>1</td>\n",
              "      <td>2864791672</td>\n",
              "      <td>98</td>\n",
              "      <td>F#</td>\n",
              "      <td>Minor</td>\n",
              "      <td>82</td>\n",
              "      <td>54</td>\n",
              "      <td>59</td>\n",
              "      <td>69</td>\n",
              "      <td>0</td>\n",
              "      <td>18</td>\n",
              "      <td>10</td>\n",
              "      <td>[Tones and I]</td>\n",
              "    </tr>\n",
              "    <tr>\n",
              "      <th>41</th>\n",
              "      <td>Sunflower - spider-man: into the spider-verse</td>\n",
              "      <td>Post Malone, Swae Lee</td>\n",
              "      <td>2</td>\n",
              "      <td>2808096550</td>\n",
              "      <td>90</td>\n",
              "      <td>D</td>\n",
              "      <td>Major</td>\n",
              "      <td>76</td>\n",
              "      <td>91</td>\n",
              "      <td>50</td>\n",
              "      <td>54</td>\n",
              "      <td>0</td>\n",
              "      <td>7</td>\n",
              "      <td>5</td>\n",
              "      <td>[Post Malone, Swae Lee]</td>\n",
              "    </tr>\n",
              "    <tr>\n",
              "      <th>162</th>\n",
              "      <td>One dance</td>\n",
              "      <td>Drake, WizKid, Kyla</td>\n",
              "      <td>3</td>\n",
              "      <td>2713922350</td>\n",
              "      <td>104</td>\n",
              "      <td>C#</td>\n",
              "      <td>Major</td>\n",
              "      <td>77</td>\n",
              "      <td>36</td>\n",
              "      <td>63</td>\n",
              "      <td>1</td>\n",
              "      <td>0</td>\n",
              "      <td>36</td>\n",
              "      <td>5</td>\n",
              "      <td>[Drake, WizKid, Kyla]</td>\n",
              "    </tr>\n",
              "    <tr>\n",
              "      <th>84</th>\n",
              "      <td>Stay (with justin bieber)</td>\n",
              "      <td>Justin Bieber, The Kid Laroi</td>\n",
              "      <td>2</td>\n",
              "      <td>2665343922</td>\n",
              "      <td>170</td>\n",
              "      <td>C#</td>\n",
              "      <td>Major</td>\n",
              "      <td>59</td>\n",
              "      <td>48</td>\n",
              "      <td>76</td>\n",
              "      <td>4</td>\n",
              "      <td>0</td>\n",
              "      <td>10</td>\n",
              "      <td>5</td>\n",
              "      <td>[Justin Bieber, The Kid Laroi]</td>\n",
              "    </tr>\n",
              "    <tr>\n",
              "      <th>140</th>\n",
              "      <td>Believer</td>\n",
              "      <td>Imagine Dragons</td>\n",
              "      <td>1</td>\n",
              "      <td>2594040133</td>\n",
              "      <td>125</td>\n",
              "      <td>A#</td>\n",
              "      <td>Minor</td>\n",
              "      <td>77</td>\n",
              "      <td>74</td>\n",
              "      <td>78</td>\n",
              "      <td>4</td>\n",
              "      <td>0</td>\n",
              "      <td>23</td>\n",
              "      <td>11</td>\n",
              "      <td>[Imagine Dragons]</td>\n",
              "    </tr>\n",
              "    <tr>\n",
              "      <th>725</th>\n",
              "      <td>Closer</td>\n",
              "      <td>The Chainsmokers, Halsey</td>\n",
              "      <td>2</td>\n",
              "      <td>2591224264</td>\n",
              "      <td>95</td>\n",
              "      <td>G#</td>\n",
              "      <td>Major</td>\n",
              "      <td>75</td>\n",
              "      <td>64</td>\n",
              "      <td>52</td>\n",
              "      <td>41</td>\n",
              "      <td>0</td>\n",
              "      <td>11</td>\n",
              "      <td>3</td>\n",
              "      <td>[The Chainsmokers, Halsey]</td>\n",
              "    </tr>\n",
              "    <tr>\n",
              "      <th>48</th>\n",
              "      <td>Starboy</td>\n",
              "      <td>The Weeknd, Daft Punk</td>\n",
              "      <td>2</td>\n",
              "      <td>2565529693</td>\n",
              "      <td>186</td>\n",
              "      <td>G</td>\n",
              "      <td>Major</td>\n",
              "      <td>68</td>\n",
              "      <td>49</td>\n",
              "      <td>59</td>\n",
              "      <td>16</td>\n",
              "      <td>0</td>\n",
              "      <td>13</td>\n",
              "      <td>28</td>\n",
              "      <td>[The Weeknd, Daft Punk]</td>\n",
              "    </tr>\n",
              "  </tbody>\n",
              "</table>\n",
              "</div>"
            ],
            "text/plain": [
              "                                        track_name  \\\n",
              "55                                 Blinding lights   \n",
              "179                                   Shape of you   \n",
              "86                               Someone you loved   \n",
              "620                                   Dance monkey   \n",
              "41   Sunflower - spider-man: into the spider-verse   \n",
              "162                                      One dance   \n",
              "84                       Stay (with justin bieber)   \n",
              "140                                       Believer   \n",
              "725                                         Closer   \n",
              "48                                         Starboy   \n",
              "\n",
              "                   artist(s)_name  artist_count     streams  bpm key   mode  \\\n",
              "55                     The Weeknd             1  3703895074  171  C#  Major   \n",
              "179                    Ed Sheeran             1  3562543890   96  C#  Minor   \n",
              "86                  Lewis Capaldi             1  2887241814  110  C#  Major   \n",
              "620                   Tones and I             1  2864791672   98  F#  Minor   \n",
              "41          Post Malone, Swae Lee             2  2808096550   90   D  Major   \n",
              "162           Drake, WizKid, Kyla             3  2713922350  104  C#  Major   \n",
              "84   Justin Bieber, The Kid Laroi             2  2665343922  170  C#  Major   \n",
              "140               Imagine Dragons             1  2594040133  125  A#  Minor   \n",
              "725      The Chainsmokers, Halsey             2  2591224264   95  G#  Major   \n",
              "48          The Weeknd, Daft Punk             2  2565529693  186   G  Major   \n",
              "\n",
              "     danceability  valence  energy  acousticness  instrumentalness  liveness  \\\n",
              "55             50       38      80             0                 0         9   \n",
              "179            83       93      65            58                 0         9   \n",
              "86             50       45      41            75                 0        11   \n",
              "620            82       54      59            69                 0        18   \n",
              "41             76       91      50            54                 0         7   \n",
              "162            77       36      63             1                 0        36   \n",
              "84             59       48      76             4                 0        10   \n",
              "140            77       74      78             4                 0        23   \n",
              "725            75       64      52            41                 0        11   \n",
              "48             68       49      59            16                 0        13   \n",
              "\n",
              "     speechiness                        splitted  \n",
              "55             7                    [The Weeknd]  \n",
              "179            8                    [Ed Sheeran]  \n",
              "86             3                 [Lewis Capaldi]  \n",
              "620           10                   [Tones and I]  \n",
              "41             5         [Post Malone, Swae Lee]  \n",
              "162            5           [Drake, WizKid, Kyla]  \n",
              "84             5  [Justin Bieber, The Kid Laroi]  \n",
              "140           11               [Imagine Dragons]  \n",
              "725            3      [The Chainsmokers, Halsey]  \n",
              "48            28         [The Weeknd, Daft Punk]  "
            ]
          },
          "execution_count": 52,
          "metadata": {},
          "output_type": "execute_result"
        }
      ],
      "source": [
        "song_info.sort_values('streams', ascending=False).head(10)"
      ]
    },
    {
      "cell_type": "markdown",
      "id": "ad9d31ad-0257-4cd0-9155-85f9a9d15943",
      "metadata": {
        "id": "ad9d31ad-0257-4cd0-9155-85f9a9d15943"
      },
      "source": [
        "Ответ автора - 4"
      ]
    }
  ],
  "metadata": {
    "kernelspec": {
      "display_name": "Python 3 (ipykernel)",
      "language": "python",
      "name": "python3"
    },
    "language_info": {
      "codemirror_mode": {
        "name": "ipython",
        "version": 3
      },
      "file_extension": ".py",
      "mimetype": "text/x-python",
      "name": "python",
      "nbconvert_exporter": "python",
      "pygments_lexer": "ipython3",
      "version": "3.11.7"
    },
    "colab": {
      "provenance": [],
      "include_colab_link": true
    }
  },
  "nbformat": 4,
  "nbformat_minor": 5
}